{
 "cells": [
  {
   "cell_type": "code",
   "execution_count": 1,
   "id": "initial_id",
   "metadata": {
    "collapsed": true,
    "ExecuteTime": {
     "end_time": "2024-02-19T08:52:39.855700Z",
     "start_time": "2024-02-19T08:52:39.836467Z"
    }
   },
   "outputs": [],
   "source": [
    "import pandas as pd\n",
    "import numpy as np\n",
    "import matplotlib.pyplot as plt\n",
    "import seaborn as sns\n",
    "%matplotlib inline"
   ]
  },
  {
   "cell_type": "code",
   "outputs": [],
   "source": [
    "coordinates = {\n",
    "    \"Kodaikanal Hills\":[\"10.2381\", \"77.4892\"],\n",
    "    \"Palani\":[\"10.2000\", \"77.5000\"],\n",
    "    \"Anaimalai Hills\":[\"10.3000\", \"77.0000\"],\n",
    "    \"Nilgiri Hills\":[\"11.3744\",\"76.7620\"],\n",
    "    \"Kolli Hills\":[\"11.2485\", \"78.3387\"],\n",
    "    \"Mudumalai\":[\"11.5623\", \"76.5345\"]\n",
    "}"
   ],
   "metadata": {
    "collapsed": false,
    "ExecuteTime": {
     "end_time": "2024-02-19T08:52:46.973429Z",
     "start_time": "2024-02-19T08:52:46.964350Z"
    }
   },
   "id": "e7ba2caddd16f0d",
   "execution_count": 2
  },
  {
   "cell_type": "code",
   "outputs": [
    {
     "data": {
      "text/plain": "dict_keys(['Kodaikanal Hills', 'Palani', 'Anaimalai Hills', 'Nilgiri Hills', 'Kolli Hills', 'Mudumalai'])"
     },
     "execution_count": 3,
     "metadata": {},
     "output_type": "execute_result"
    }
   ],
   "source": [
    "coordinates.keys()"
   ],
   "metadata": {
    "collapsed": false,
    "ExecuteTime": {
     "end_time": "2024-02-19T08:52:51.052339Z",
     "start_time": "2024-02-19T08:52:51.041512Z"
    }
   },
   "id": "1d0cb1ad14e817d5",
   "execution_count": 3
  },
  {
   "cell_type": "code",
   "outputs": [],
   "source": [
    "data_17 = pd.read_csv(\"../data/modis_2017_India.csv\")\n",
    "data_18 = pd.read_csv(\"../data/modis_2018_India.csv\")\n",
    "data_19 = pd.read_csv(\"../data/modis_2019_India.csv\")\n",
    "data_20 = pd.read_csv(\"../data/modis_2020_India.csv\")\n",
    "data_21 = pd.read_csv(\"../data/modis_2021_India.csv\")\n",
    "data_22 = pd.read_csv(\"../data/modis_2022_India.csv\")"
   ],
   "metadata": {
    "collapsed": false,
    "ExecuteTime": {
     "end_time": "2024-02-19T05:56:08.007174Z",
     "start_time": "2024-02-19T05:56:07.043912Z"
    }
   },
   "id": "d0306d729c11c53b",
   "execution_count": 4
  },
  {
   "cell_type": "code",
   "outputs": [
    {
     "data": {
      "text/plain": "   latitude  longitude  brightness  scan  track    acq_date  acq_time  \\\n0   31.4814    75.7365       301.5   1.4    1.2  2017-01-01       529   \n1   28.7628    79.5194       311.3   1.0    1.0  2017-01-01       530   \n2   28.0761    79.8547       304.2   1.0    1.0  2017-01-01       530   \n3   28.5888    78.7448       305.0   1.0    1.0  2017-01-01       530   \n4   29.4661    77.1339       303.3   1.1    1.1  2017-01-01       530   \n\n  satellite instrument  confidence  version  bright_t31  frp daynight  type  \n0     Terra      MODIS          48      6.2       291.1  5.4        D     0  \n1     Terra      MODIS          71      6.2       292.8  8.6        D     0  \n2     Terra      MODIS          58      6.2       290.6  5.0        D     0  \n3     Terra      MODIS          60      6.2       293.5  4.3        D     0  \n4     Terra      MODIS          56      6.2       291.6  5.6        D     0  ",
      "text/html": "<div>\n<style scoped>\n    .dataframe tbody tr th:only-of-type {\n        vertical-align: middle;\n    }\n\n    .dataframe tbody tr th {\n        vertical-align: top;\n    }\n\n    .dataframe thead th {\n        text-align: right;\n    }\n</style>\n<table border=\"1\" class=\"dataframe\">\n  <thead>\n    <tr style=\"text-align: right;\">\n      <th></th>\n      <th>latitude</th>\n      <th>longitude</th>\n      <th>brightness</th>\n      <th>scan</th>\n      <th>track</th>\n      <th>acq_date</th>\n      <th>acq_time</th>\n      <th>satellite</th>\n      <th>instrument</th>\n      <th>confidence</th>\n      <th>version</th>\n      <th>bright_t31</th>\n      <th>frp</th>\n      <th>daynight</th>\n      <th>type</th>\n    </tr>\n  </thead>\n  <tbody>\n    <tr>\n      <th>0</th>\n      <td>31.4814</td>\n      <td>75.7365</td>\n      <td>301.5</td>\n      <td>1.4</td>\n      <td>1.2</td>\n      <td>2017-01-01</td>\n      <td>529</td>\n      <td>Terra</td>\n      <td>MODIS</td>\n      <td>48</td>\n      <td>6.2</td>\n      <td>291.1</td>\n      <td>5.4</td>\n      <td>D</td>\n      <td>0</td>\n    </tr>\n    <tr>\n      <th>1</th>\n      <td>28.7628</td>\n      <td>79.5194</td>\n      <td>311.3</td>\n      <td>1.0</td>\n      <td>1.0</td>\n      <td>2017-01-01</td>\n      <td>530</td>\n      <td>Terra</td>\n      <td>MODIS</td>\n      <td>71</td>\n      <td>6.2</td>\n      <td>292.8</td>\n      <td>8.6</td>\n      <td>D</td>\n      <td>0</td>\n    </tr>\n    <tr>\n      <th>2</th>\n      <td>28.0761</td>\n      <td>79.8547</td>\n      <td>304.2</td>\n      <td>1.0</td>\n      <td>1.0</td>\n      <td>2017-01-01</td>\n      <td>530</td>\n      <td>Terra</td>\n      <td>MODIS</td>\n      <td>58</td>\n      <td>6.2</td>\n      <td>290.6</td>\n      <td>5.0</td>\n      <td>D</td>\n      <td>0</td>\n    </tr>\n    <tr>\n      <th>3</th>\n      <td>28.5888</td>\n      <td>78.7448</td>\n      <td>305.0</td>\n      <td>1.0</td>\n      <td>1.0</td>\n      <td>2017-01-01</td>\n      <td>530</td>\n      <td>Terra</td>\n      <td>MODIS</td>\n      <td>60</td>\n      <td>6.2</td>\n      <td>293.5</td>\n      <td>4.3</td>\n      <td>D</td>\n      <td>0</td>\n    </tr>\n    <tr>\n      <th>4</th>\n      <td>29.4661</td>\n      <td>77.1339</td>\n      <td>303.3</td>\n      <td>1.1</td>\n      <td>1.1</td>\n      <td>2017-01-01</td>\n      <td>530</td>\n      <td>Terra</td>\n      <td>MODIS</td>\n      <td>56</td>\n      <td>6.2</td>\n      <td>291.6</td>\n      <td>5.6</td>\n      <td>D</td>\n      <td>0</td>\n    </tr>\n  </tbody>\n</table>\n</div>"
     },
     "execution_count": 5,
     "metadata": {},
     "output_type": "execute_result"
    }
   ],
   "source": [
    "data_17.head()"
   ],
   "metadata": {
    "collapsed": false,
    "ExecuteTime": {
     "end_time": "2024-02-19T05:56:08.036711Z",
     "start_time": "2024-02-19T05:56:08.011807Z"
    }
   },
   "id": "b9a146260079da15",
   "execution_count": 5
  },
  {
   "cell_type": "code",
   "outputs": [],
   "source": [
    "# Locate the coordinates of the hills in the coordinates dictionary and find a match in the dataframe\n",
    "# Then, filter the dataframe to only include the rows that match the coordinates\n",
    "# Finally, sum the columns to get the total number of fires in the region\n",
    "def get_fires(data, coordinates):\n",
    "    fires = {}\n",
    "    for hill in coordinates:\n",
    "        lat = coordinates[hill][1]\n",
    "        lon = coordinates[hill][0]\n",
    "        fires[hill] = data[(data['latitude'] == float(lat)) & (data['longitude'] == float(lon))].iloc[:, 3:].sum().sum()\n",
    "    return fires"
   ],
   "metadata": {
    "collapsed": false,
    "ExecuteTime": {
     "end_time": "2024-02-19T06:00:30.469109Z",
     "start_time": "2024-02-19T06:00:30.465281Z"
    }
   },
   "id": "3b7225aee81ada74",
   "execution_count": 11
  },
  {
   "cell_type": "code",
   "outputs": [
    {
     "data": {
      "text/plain": "{'Kodaikanal Hills': 0.0,\n 'Palani': 0.0,\n 'Anaimalai Hills': 0.0,\n 'Nilgiri Hills': 0.0,\n 'Kolli Hills': 0.0,\n 'Mudumalai': 0.0}"
     },
     "execution_count": 12,
     "metadata": {},
     "output_type": "execute_result"
    }
   ],
   "source": [
    "get_fires(data_17,coordinates)"
   ],
   "metadata": {
    "collapsed": false,
    "ExecuteTime": {
     "end_time": "2024-02-19T06:00:30.927837Z",
     "start_time": "2024-02-19T06:00:30.910083Z"
    }
   },
   "id": "f59eedbff86b184b",
   "execution_count": 12
  },
  {
   "cell_type": "code",
   "outputs": [],
   "source": [],
   "metadata": {
    "collapsed": false
   },
   "id": "3d77b98432ba90ed"
  }
 ],
 "metadata": {
  "kernelspec": {
   "display_name": "Python 3",
   "language": "python",
   "name": "python3"
  },
  "language_info": {
   "codemirror_mode": {
    "name": "ipython",
    "version": 2
   },
   "file_extension": ".py",
   "mimetype": "text/x-python",
   "name": "python",
   "nbconvert_exporter": "python",
   "pygments_lexer": "ipython2",
   "version": "2.7.6"
  }
 },
 "nbformat": 4,
 "nbformat_minor": 5
}
