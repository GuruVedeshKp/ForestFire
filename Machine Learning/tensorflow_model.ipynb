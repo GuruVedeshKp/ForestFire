{
 "cells": [
  {
   "cell_type": "code",
   "execution_count": 1,
   "id": "initial_id",
   "metadata": {
    "collapsed": true,
    "ExecuteTime": {
     "end_time": "2024-02-24T01:18:51.817067Z",
     "start_time": "2024-02-24T01:18:48.767043Z"
    }
   },
   "outputs": [
    {
     "name": "stderr",
     "output_type": "stream",
     "text": [
      "Intel(R) Extension for Scikit-learn* enabled (https://github.com/intel/scikit-learn-intelex)\n"
     ]
    }
   ],
   "source": [
    "import pandas as pd\n",
    "import numpy as np\n",
    "import matplotlib.pyplot as plt\n",
    "import seaborn as sns\n",
    "from sklearn.metrics import confusion_matrix, accuracy_score, classification_report, f1_score\n",
    "import warnings\n",
    "warnings.filterwarnings(\"ignore\")"
   ]
  },
  {
   "cell_type": "code",
   "outputs": [],
   "source": [
    "data_17 = pd.read_csv(\"../data/modis_2017_India.csv\")\n",
    "data_18 = pd.read_csv(\"../data/modis_2018_India.csv\")\n",
    "data_19 = pd.read_csv(\"../data/modis_2019_India.csv\")\n",
    "data_20 = pd.read_csv(\"../data/modis_2020_India.csv\")\n",
    "data_21 = pd.read_csv(\"../data/modis_2021_India.csv\")\n",
    "data_22 = pd.read_csv(\"../data/modis_2022_India.csv\")"
   ],
   "metadata": {
    "collapsed": false,
    "ExecuteTime": {
     "end_time": "2024-02-24T01:40:47.604609Z",
     "start_time": "2024-02-24T01:40:45.844442Z"
    }
   },
   "id": "1804942b9e849594",
   "execution_count": 66
  },
  {
   "cell_type": "code",
   "outputs": [],
   "source": [
    "df = pd.concat([data_17, data_18, data_19, data_20, data_21, data_22])"
   ],
   "metadata": {
    "collapsed": false,
    "ExecuteTime": {
     "end_time": "2024-02-24T01:40:47.704582Z",
     "start_time": "2024-02-24T01:40:47.601478Z"
    }
   },
   "id": "952fde0c0f2e5443",
   "execution_count": 67
  },
  {
   "cell_type": "code",
   "outputs": [
    {
     "data": {
      "text/plain": "(517970, 15)"
     },
     "execution_count": 4,
     "metadata": {},
     "output_type": "execute_result"
    }
   ],
   "source": [
    "df.shape"
   ],
   "metadata": {
    "collapsed": false,
    "ExecuteTime": {
     "end_time": "2024-02-24T01:18:53.200755Z",
     "start_time": "2024-02-24T01:18:53.185952Z"
    }
   },
   "id": "4e84f90622f3271e",
   "execution_count": 4
  },
  {
   "cell_type": "code",
   "outputs": [],
   "source": [
    "df = df.query('type!=1 and type!=3')"
   ],
   "metadata": {
    "collapsed": false,
    "ExecuteTime": {
     "end_time": "2024-02-24T01:18:53.341106Z",
     "start_time": "2024-02-24T01:18:53.200962Z"
    }
   },
   "id": "18318055542a28ea",
   "execution_count": 5
  },
  {
   "cell_type": "code",
   "outputs": [
    {
     "data": {
      "text/plain": "type\n0    490993\n2     26853\nName: count, dtype: int64"
     },
     "execution_count": 6,
     "metadata": {},
     "output_type": "execute_result"
    }
   ],
   "source": [
    "df['type'].value_counts()"
   ],
   "metadata": {
    "collapsed": false,
    "ExecuteTime": {
     "end_time": "2024-02-24T01:18:53.381585Z",
     "start_time": "2024-02-24T01:18:53.363404Z"
    }
   },
   "id": "e6760d764b948c8e",
   "execution_count": 6
  },
  {
   "cell_type": "code",
   "outputs": [
    {
     "data": {
      "text/plain": "(517846, 15)"
     },
     "execution_count": 7,
     "metadata": {},
     "output_type": "execute_result"
    }
   ],
   "source": [
    "df.shape"
   ],
   "metadata": {
    "collapsed": false,
    "ExecuteTime": {
     "end_time": "2024-02-24T01:18:53.397801Z",
     "start_time": "2024-02-24T01:18:53.374541Z"
    }
   },
   "id": "38fcacf952e212e1",
   "execution_count": 7
  },
  {
   "cell_type": "code",
   "outputs": [],
   "source": [
    "df.reset_index(drop=True, inplace=True)"
   ],
   "metadata": {
    "collapsed": false,
    "ExecuteTime": {
     "end_time": "2024-02-24T01:18:53.415080Z",
     "start_time": "2024-02-24T01:18:53.384765Z"
    }
   },
   "id": "405fc00f96e70b3c",
   "execution_count": 8
  },
  {
   "cell_type": "code",
   "outputs": [
    {
     "data": {
      "text/plain": "        latitude  longitude  brightness  scan  track    acq_date  acq_time  \\\n0        31.4814    75.7365       301.5   1.4    1.2  2017-01-01       529   \n1        28.7628    79.5194       311.3   1.0    1.0  2017-01-01       530   \n2        28.0761    79.8547       304.2   1.0    1.0  2017-01-01       530   \n3        28.5888    78.7448       305.0   1.0    1.0  2017-01-01       530   \n4        29.4661    77.1339       303.3   1.1    1.1  2017-01-01       530   \n...          ...        ...         ...   ...    ...         ...       ...   \n517841   29.9033    74.9521       303.3   2.7    1.6  2022-12-31      1726   \n517842   29.9086    74.9460       323.9   2.7    1.6  2022-12-31      1726   \n517843   29.9170    74.9576       323.5   1.9    1.3  2022-12-31      2127   \n517844   21.1048    72.6415       302.9   2.0    1.4  2022-12-31      2130   \n517845   21.1137    72.6380       302.7   2.0    1.4  2022-12-31      2130   \n\n       satellite instrument  confidence  version  bright_t31    frp daynight  \\\n0          Terra      MODIS          48     6.20       291.1    5.4        D   \n1          Terra      MODIS          71     6.20       292.8    8.6        D   \n2          Terra      MODIS          58     6.20       290.6    5.0        D   \n3          Terra      MODIS          60     6.20       293.5    4.3        D   \n4          Terra      MODIS          56     6.20       291.6    5.6        D   \n...          ...        ...         ...      ...         ...    ...      ...   \n517841     Terra      MODIS          55     6.03       281.3   37.2        N   \n517842     Terra      MODIS         100     6.03       282.0  106.5        N   \n517843      Aqua      MODIS         100     6.03       274.6   66.9        N   \n517844      Aqua      MODIS          52     6.03       289.9   18.5        N   \n517845      Aqua      MODIS          51     6.03       290.1   18.3        N   \n\n        type  \n0          0  \n1          0  \n2          0  \n3          0  \n4          0  \n...      ...  \n517841     0  \n517842     0  \n517843     0  \n517844     2  \n517845     2  \n\n[517846 rows x 15 columns]",
      "text/html": "<div>\n<style scoped>\n    .dataframe tbody tr th:only-of-type {\n        vertical-align: middle;\n    }\n\n    .dataframe tbody tr th {\n        vertical-align: top;\n    }\n\n    .dataframe thead th {\n        text-align: right;\n    }\n</style>\n<table border=\"1\" class=\"dataframe\">\n  <thead>\n    <tr style=\"text-align: right;\">\n      <th></th>\n      <th>latitude</th>\n      <th>longitude</th>\n      <th>brightness</th>\n      <th>scan</th>\n      <th>track</th>\n      <th>acq_date</th>\n      <th>acq_time</th>\n      <th>satellite</th>\n      <th>instrument</th>\n      <th>confidence</th>\n      <th>version</th>\n      <th>bright_t31</th>\n      <th>frp</th>\n      <th>daynight</th>\n      <th>type</th>\n    </tr>\n  </thead>\n  <tbody>\n    <tr>\n      <th>0</th>\n      <td>31.4814</td>\n      <td>75.7365</td>\n      <td>301.5</td>\n      <td>1.4</td>\n      <td>1.2</td>\n      <td>2017-01-01</td>\n      <td>529</td>\n      <td>Terra</td>\n      <td>MODIS</td>\n      <td>48</td>\n      <td>6.20</td>\n      <td>291.1</td>\n      <td>5.4</td>\n      <td>D</td>\n      <td>0</td>\n    </tr>\n    <tr>\n      <th>1</th>\n      <td>28.7628</td>\n      <td>79.5194</td>\n      <td>311.3</td>\n      <td>1.0</td>\n      <td>1.0</td>\n      <td>2017-01-01</td>\n      <td>530</td>\n      <td>Terra</td>\n      <td>MODIS</td>\n      <td>71</td>\n      <td>6.20</td>\n      <td>292.8</td>\n      <td>8.6</td>\n      <td>D</td>\n      <td>0</td>\n    </tr>\n    <tr>\n      <th>2</th>\n      <td>28.0761</td>\n      <td>79.8547</td>\n      <td>304.2</td>\n      <td>1.0</td>\n      <td>1.0</td>\n      <td>2017-01-01</td>\n      <td>530</td>\n      <td>Terra</td>\n      <td>MODIS</td>\n      <td>58</td>\n      <td>6.20</td>\n      <td>290.6</td>\n      <td>5.0</td>\n      <td>D</td>\n      <td>0</td>\n    </tr>\n    <tr>\n      <th>3</th>\n      <td>28.5888</td>\n      <td>78.7448</td>\n      <td>305.0</td>\n      <td>1.0</td>\n      <td>1.0</td>\n      <td>2017-01-01</td>\n      <td>530</td>\n      <td>Terra</td>\n      <td>MODIS</td>\n      <td>60</td>\n      <td>6.20</td>\n      <td>293.5</td>\n      <td>4.3</td>\n      <td>D</td>\n      <td>0</td>\n    </tr>\n    <tr>\n      <th>4</th>\n      <td>29.4661</td>\n      <td>77.1339</td>\n      <td>303.3</td>\n      <td>1.1</td>\n      <td>1.1</td>\n      <td>2017-01-01</td>\n      <td>530</td>\n      <td>Terra</td>\n      <td>MODIS</td>\n      <td>56</td>\n      <td>6.20</td>\n      <td>291.6</td>\n      <td>5.6</td>\n      <td>D</td>\n      <td>0</td>\n    </tr>\n    <tr>\n      <th>...</th>\n      <td>...</td>\n      <td>...</td>\n      <td>...</td>\n      <td>...</td>\n      <td>...</td>\n      <td>...</td>\n      <td>...</td>\n      <td>...</td>\n      <td>...</td>\n      <td>...</td>\n      <td>...</td>\n      <td>...</td>\n      <td>...</td>\n      <td>...</td>\n      <td>...</td>\n    </tr>\n    <tr>\n      <th>517841</th>\n      <td>29.9033</td>\n      <td>74.9521</td>\n      <td>303.3</td>\n      <td>2.7</td>\n      <td>1.6</td>\n      <td>2022-12-31</td>\n      <td>1726</td>\n      <td>Terra</td>\n      <td>MODIS</td>\n      <td>55</td>\n      <td>6.03</td>\n      <td>281.3</td>\n      <td>37.2</td>\n      <td>N</td>\n      <td>0</td>\n    </tr>\n    <tr>\n      <th>517842</th>\n      <td>29.9086</td>\n      <td>74.9460</td>\n      <td>323.9</td>\n      <td>2.7</td>\n      <td>1.6</td>\n      <td>2022-12-31</td>\n      <td>1726</td>\n      <td>Terra</td>\n      <td>MODIS</td>\n      <td>100</td>\n      <td>6.03</td>\n      <td>282.0</td>\n      <td>106.5</td>\n      <td>N</td>\n      <td>0</td>\n    </tr>\n    <tr>\n      <th>517843</th>\n      <td>29.9170</td>\n      <td>74.9576</td>\n      <td>323.5</td>\n      <td>1.9</td>\n      <td>1.3</td>\n      <td>2022-12-31</td>\n      <td>2127</td>\n      <td>Aqua</td>\n      <td>MODIS</td>\n      <td>100</td>\n      <td>6.03</td>\n      <td>274.6</td>\n      <td>66.9</td>\n      <td>N</td>\n      <td>0</td>\n    </tr>\n    <tr>\n      <th>517844</th>\n      <td>21.1048</td>\n      <td>72.6415</td>\n      <td>302.9</td>\n      <td>2.0</td>\n      <td>1.4</td>\n      <td>2022-12-31</td>\n      <td>2130</td>\n      <td>Aqua</td>\n      <td>MODIS</td>\n      <td>52</td>\n      <td>6.03</td>\n      <td>289.9</td>\n      <td>18.5</td>\n      <td>N</td>\n      <td>2</td>\n    </tr>\n    <tr>\n      <th>517845</th>\n      <td>21.1137</td>\n      <td>72.6380</td>\n      <td>302.7</td>\n      <td>2.0</td>\n      <td>1.4</td>\n      <td>2022-12-31</td>\n      <td>2130</td>\n      <td>Aqua</td>\n      <td>MODIS</td>\n      <td>51</td>\n      <td>6.03</td>\n      <td>290.1</td>\n      <td>18.3</td>\n      <td>N</td>\n      <td>2</td>\n    </tr>\n  </tbody>\n</table>\n<p>517846 rows × 15 columns</p>\n</div>"
     },
     "execution_count": 9,
     "metadata": {},
     "output_type": "execute_result"
    }
   ],
   "source": [
    "df"
   ],
   "metadata": {
    "collapsed": false,
    "ExecuteTime": {
     "end_time": "2024-02-24T01:18:53.450589Z",
     "start_time": "2024-02-24T01:18:53.393103Z"
    }
   },
   "id": "96904951b586232c",
   "execution_count": 9
  },
  {
   "cell_type": "code",
   "outputs": [],
   "source": [
    "df.loc[df['type']==2, 'type'] = 1"
   ],
   "metadata": {
    "collapsed": false,
    "ExecuteTime": {
     "end_time": "2024-02-24T01:18:53.466319Z",
     "start_time": "2024-02-24T01:18:53.424877Z"
    }
   },
   "id": "1e930af09ac4178b",
   "execution_count": 10
  },
  {
   "cell_type": "code",
   "outputs": [],
   "source": [
    "df.drop(['version'],axis=1,inplace=True)"
   ],
   "metadata": {
    "collapsed": false,
    "ExecuteTime": {
     "end_time": "2024-02-24T01:18:53.552402Z",
     "start_time": "2024-02-24T01:18:53.439771Z"
    }
   },
   "id": "2e30a967c5ceb250",
   "execution_count": 11
  },
  {
   "cell_type": "code",
   "outputs": [],
   "source": [
    "df.drop([\"instrument\"],axis=1,inplace=True)"
   ],
   "metadata": {
    "collapsed": false,
    "ExecuteTime": {
     "end_time": "2024-02-24T01:18:53.673019Z",
     "start_time": "2024-02-24T01:18:53.498058Z"
    }
   },
   "id": "57942a28c798995",
   "execution_count": 12
  },
  {
   "cell_type": "code",
   "outputs": [
    {
     "data": {
      "text/plain": "Index(['latitude', 'longitude', 'brightness', 'scan', 'track', 'acq_date',\n       'acq_time', 'satellite', 'confidence', 'bright_t31', 'frp', 'daynight',\n       'type'],\n      dtype='object')"
     },
     "execution_count": 13,
     "metadata": {},
     "output_type": "execute_result"
    }
   ],
   "source": [
    "df.columns"
   ],
   "metadata": {
    "collapsed": false,
    "ExecuteTime": {
     "end_time": "2024-02-24T01:18:53.678013Z",
     "start_time": "2024-02-24T01:18:53.544882Z"
    }
   },
   "id": "7f3ca1d060e37708",
   "execution_count": 13
  },
  {
   "cell_type": "code",
   "outputs": [
    {
     "data": {
      "text/plain": "                scan  confidence\nscan        1.000000   -0.047293\nconfidence -0.047293    1.000000",
      "text/html": "<div>\n<style scoped>\n    .dataframe tbody tr th:only-of-type {\n        vertical-align: middle;\n    }\n\n    .dataframe tbody tr th {\n        vertical-align: top;\n    }\n\n    .dataframe thead th {\n        text-align: right;\n    }\n</style>\n<table border=\"1\" class=\"dataframe\">\n  <thead>\n    <tr style=\"text-align: right;\">\n      <th></th>\n      <th>scan</th>\n      <th>confidence</th>\n    </tr>\n  </thead>\n  <tbody>\n    <tr>\n      <th>scan</th>\n      <td>1.000000</td>\n      <td>-0.047293</td>\n    </tr>\n    <tr>\n      <th>confidence</th>\n      <td>-0.047293</td>\n      <td>1.000000</td>\n    </tr>\n  </tbody>\n</table>\n</div>"
     },
     "execution_count": 14,
     "metadata": {},
     "output_type": "execute_result"
    }
   ],
   "source": [
    "df[['scan','confidence']].corr()"
   ],
   "metadata": {
    "collapsed": false,
    "ExecuteTime": {
     "end_time": "2024-02-24T01:18:53.754181Z",
     "start_time": "2024-02-24T01:18:53.562284Z"
    }
   },
   "id": "dd65e0c18d5d22a9",
   "execution_count": 14
  },
  {
   "cell_type": "code",
   "outputs": [],
   "source": [
    "df.drop(['scan'],axis=1,inplace=True)"
   ],
   "metadata": {
    "collapsed": false,
    "ExecuteTime": {
     "end_time": "2024-02-24T01:18:53.755706Z",
     "start_time": "2024-02-24T01:18:53.590670Z"
    }
   },
   "id": "b2f4842014149e32",
   "execution_count": 15
  },
  {
   "cell_type": "code",
   "outputs": [
    {
     "data": {
      "text/plain": "Index(['latitude', 'longitude', 'brightness', 'track', 'acq_date', 'acq_time',\n       'satellite', 'confidence', 'bright_t31', 'frp', 'daynight', 'type'],\n      dtype='object')"
     },
     "execution_count": 16,
     "metadata": {},
     "output_type": "execute_result"
    }
   ],
   "source": [
    "df.columns"
   ],
   "metadata": {
    "collapsed": false,
    "ExecuteTime": {
     "end_time": "2024-02-24T01:18:53.757266Z",
     "start_time": "2024-02-24T01:18:53.634596Z"
    }
   },
   "id": "18c9772f3a833df",
   "execution_count": 16
  },
  {
   "cell_type": "code",
   "outputs": [],
   "source": [
    "df['month'] = df[\"acq_date\"].apply(lambda x: int(x.split(\"-\")[1]))"
   ],
   "metadata": {
    "collapsed": false,
    "ExecuteTime": {
     "end_time": "2024-02-24T01:41:04.524412Z",
     "start_time": "2024-02-24T01:41:04.056882Z"
    }
   },
   "id": "d99458249d61a7dd",
   "execution_count": 68
  },
  {
   "cell_type": "code",
   "outputs": [
    {
     "data": {
      "text/plain": "month\n3     138193\n4     103780\n11     77270\n5      47719\n10     43289\n2      42506\n12     26895\n1      25747\n6       5562\n9       3085\n7       1926\n8       1874\nName: count, dtype: int64"
     },
     "execution_count": 18,
     "metadata": {},
     "output_type": "execute_result"
    }
   ],
   "source": [
    "df['month'].value_counts()"
   ],
   "metadata": {
    "collapsed": false,
    "ExecuteTime": {
     "end_time": "2024-02-24T01:18:54.056148Z",
     "start_time": "2024-02-24T01:18:54.045055Z"
    }
   },
   "id": "e47a3bdedec9637a",
   "execution_count": 18
  },
  {
   "cell_type": "code",
   "outputs": [
    {
     "data": {
      "text/plain": "               month  confidence\nmonth       1.000000   -0.111469\nconfidence -0.111469    1.000000",
      "text/html": "<div>\n<style scoped>\n    .dataframe tbody tr th:only-of-type {\n        vertical-align: middle;\n    }\n\n    .dataframe tbody tr th {\n        vertical-align: top;\n    }\n\n    .dataframe thead th {\n        text-align: right;\n    }\n</style>\n<table border=\"1\" class=\"dataframe\">\n  <thead>\n    <tr style=\"text-align: right;\">\n      <th></th>\n      <th>month</th>\n      <th>confidence</th>\n    </tr>\n  </thead>\n  <tbody>\n    <tr>\n      <th>month</th>\n      <td>1.000000</td>\n      <td>-0.111469</td>\n    </tr>\n    <tr>\n      <th>confidence</th>\n      <td>-0.111469</td>\n      <td>1.000000</td>\n    </tr>\n  </tbody>\n</table>\n</div>"
     },
     "execution_count": 19,
     "metadata": {},
     "output_type": "execute_result"
    }
   ],
   "source": [
    "df[['month','confidence']].corr()"
   ],
   "metadata": {
    "collapsed": false,
    "ExecuteTime": {
     "end_time": "2024-02-24T01:18:54.087822Z",
     "start_time": "2024-02-24T01:18:54.050896Z"
    }
   },
   "id": "8313c32b5afc1af3",
   "execution_count": 19
  },
  {
   "cell_type": "code",
   "outputs": [],
   "source": [
    "df.drop(['month'],axis=1,inplace=True)"
   ],
   "metadata": {
    "collapsed": false,
    "ExecuteTime": {
     "end_time": "2024-02-24T01:18:54.161084Z",
     "start_time": "2024-02-24T01:18:54.086188Z"
    }
   },
   "id": "6abd6f6e7f7796c5",
   "execution_count": 20
  },
  {
   "cell_type": "code",
   "outputs": [
    {
     "data": {
      "text/plain": "Index(['latitude', 'longitude', 'brightness', 'track', 'acq_date', 'acq_time',\n       'satellite', 'confidence', 'bright_t31', 'frp', 'daynight', 'type'],\n      dtype='object')"
     },
     "execution_count": 21,
     "metadata": {},
     "output_type": "execute_result"
    }
   ],
   "source": [
    "df.columns"
   ],
   "metadata": {
    "collapsed": false,
    "ExecuteTime": {
     "end_time": "2024-02-24T01:18:54.163643Z",
     "start_time": "2024-02-24T01:18:54.130209Z"
    }
   },
   "id": "a2465136b4b02ea7",
   "execution_count": 21
  },
  {
   "cell_type": "code",
   "outputs": [
    {
     "data": {
      "text/plain": "               track  confidence\ntrack       1.000000   -0.048265\nconfidence -0.048265    1.000000",
      "text/html": "<div>\n<style scoped>\n    .dataframe tbody tr th:only-of-type {\n        vertical-align: middle;\n    }\n\n    .dataframe tbody tr th {\n        vertical-align: top;\n    }\n\n    .dataframe thead th {\n        text-align: right;\n    }\n</style>\n<table border=\"1\" class=\"dataframe\">\n  <thead>\n    <tr style=\"text-align: right;\">\n      <th></th>\n      <th>track</th>\n      <th>confidence</th>\n    </tr>\n  </thead>\n  <tbody>\n    <tr>\n      <th>track</th>\n      <td>1.000000</td>\n      <td>-0.048265</td>\n    </tr>\n    <tr>\n      <th>confidence</th>\n      <td>-0.048265</td>\n      <td>1.000000</td>\n    </tr>\n  </tbody>\n</table>\n</div>"
     },
     "execution_count": 22,
     "metadata": {},
     "output_type": "execute_result"
    }
   ],
   "source": [
    "df[['track','confidence']].corr()"
   ],
   "metadata": {
    "collapsed": false,
    "ExecuteTime": {
     "end_time": "2024-02-24T01:18:54.311269Z",
     "start_time": "2024-02-24T01:18:54.144159Z"
    }
   },
   "id": "52369df7e72a7214",
   "execution_count": 22
  },
  {
   "cell_type": "code",
   "outputs": [],
   "source": [
    "df.drop(['track'],axis=1,inplace=True)"
   ],
   "metadata": {
    "collapsed": false,
    "ExecuteTime": {
     "end_time": "2024-02-24T01:18:54.313693Z",
     "start_time": "2024-02-24T01:18:54.175544Z"
    }
   },
   "id": "74712434048b88b8",
   "execution_count": 23
  },
  {
   "cell_type": "code",
   "outputs": [
    {
     "data": {
      "text/plain": "Index(['latitude', 'longitude', 'brightness', 'acq_date', 'acq_time',\n       'satellite', 'confidence', 'bright_t31', 'frp', 'daynight', 'type'],\n      dtype='object')"
     },
     "execution_count": 24,
     "metadata": {},
     "output_type": "execute_result"
    }
   ],
   "source": [
    "df.columns"
   ],
   "metadata": {
    "collapsed": false,
    "ExecuteTime": {
     "end_time": "2024-02-24T01:18:54.364298Z",
     "start_time": "2024-02-24T01:18:54.221220Z"
    }
   },
   "id": "25d0fa69de59d45d",
   "execution_count": 24
  },
  {
   "cell_type": "code",
   "outputs": [
    {
     "data": {
      "text/plain": "                 frp  confidence\nfrp         1.000000    0.282232\nconfidence  0.282232    1.000000",
      "text/html": "<div>\n<style scoped>\n    .dataframe tbody tr th:only-of-type {\n        vertical-align: middle;\n    }\n\n    .dataframe tbody tr th {\n        vertical-align: top;\n    }\n\n    .dataframe thead th {\n        text-align: right;\n    }\n</style>\n<table border=\"1\" class=\"dataframe\">\n  <thead>\n    <tr style=\"text-align: right;\">\n      <th></th>\n      <th>frp</th>\n      <th>confidence</th>\n    </tr>\n  </thead>\n  <tbody>\n    <tr>\n      <th>frp</th>\n      <td>1.000000</td>\n      <td>0.282232</td>\n    </tr>\n    <tr>\n      <th>confidence</th>\n      <td>0.282232</td>\n      <td>1.000000</td>\n    </tr>\n  </tbody>\n</table>\n</div>"
     },
     "execution_count": 25,
     "metadata": {},
     "output_type": "execute_result"
    }
   ],
   "source": [
    "df[['frp','confidence']].corr()"
   ],
   "metadata": {
    "collapsed": false,
    "ExecuteTime": {
     "end_time": "2024-02-24T01:18:54.369314Z",
     "start_time": "2024-02-24T01:18:54.231280Z"
    }
   },
   "id": "408361990f8f408d",
   "execution_count": 25
  },
  {
   "cell_type": "code",
   "outputs": [
    {
     "data": {
      "text/plain": "            brightness  confidence\nbrightness     1.00000     0.55361\nconfidence     0.55361     1.00000",
      "text/html": "<div>\n<style scoped>\n    .dataframe tbody tr th:only-of-type {\n        vertical-align: middle;\n    }\n\n    .dataframe tbody tr th {\n        vertical-align: top;\n    }\n\n    .dataframe thead th {\n        text-align: right;\n    }\n</style>\n<table border=\"1\" class=\"dataframe\">\n  <thead>\n    <tr style=\"text-align: right;\">\n      <th></th>\n      <th>brightness</th>\n      <th>confidence</th>\n    </tr>\n  </thead>\n  <tbody>\n    <tr>\n      <th>brightness</th>\n      <td>1.00000</td>\n      <td>0.55361</td>\n    </tr>\n    <tr>\n      <th>confidence</th>\n      <td>0.55361</td>\n      <td>1.00000</td>\n    </tr>\n  </tbody>\n</table>\n</div>"
     },
     "execution_count": 26,
     "metadata": {},
     "output_type": "execute_result"
    }
   ],
   "source": [
    "df[['brightness','confidence']].corr()"
   ],
   "metadata": {
    "collapsed": false,
    "ExecuteTime": {
     "end_time": "2024-02-24T01:18:54.453469Z",
     "start_time": "2024-02-24T01:18:54.257115Z"
    }
   },
   "id": "c155dd1d941db574",
   "execution_count": 26
  },
  {
   "cell_type": "code",
   "outputs": [
    {
     "data": {
      "text/plain": "            bright_t31  confidence\nbright_t31    1.000000    0.197398\nconfidence    0.197398    1.000000",
      "text/html": "<div>\n<style scoped>\n    .dataframe tbody tr th:only-of-type {\n        vertical-align: middle;\n    }\n\n    .dataframe tbody tr th {\n        vertical-align: top;\n    }\n\n    .dataframe thead th {\n        text-align: right;\n    }\n</style>\n<table border=\"1\" class=\"dataframe\">\n  <thead>\n    <tr style=\"text-align: right;\">\n      <th></th>\n      <th>bright_t31</th>\n      <th>confidence</th>\n    </tr>\n  </thead>\n  <tbody>\n    <tr>\n      <th>bright_t31</th>\n      <td>1.000000</td>\n      <td>0.197398</td>\n    </tr>\n    <tr>\n      <th>confidence</th>\n      <td>0.197398</td>\n      <td>1.000000</td>\n    </tr>\n  </tbody>\n</table>\n</div>"
     },
     "execution_count": 27,
     "metadata": {},
     "output_type": "execute_result"
    }
   ],
   "source": [
    "df[['bright_t31','confidence']].corr()"
   ],
   "metadata": {
    "collapsed": false,
    "ExecuteTime": {
     "end_time": "2024-02-24T01:18:54.477755Z",
     "start_time": "2024-02-24T01:18:54.291386Z"
    }
   },
   "id": "d347ff957d8f06cf",
   "execution_count": 27
  },
  {
   "cell_type": "code",
   "outputs": [
    {
     "data": {
      "text/plain": "Index(['latitude', 'longitude', 'brightness', 'acq_date', 'acq_time',\n       'satellite', 'confidence', 'bright_t31', 'frp', 'daynight', 'type'],\n      dtype='object')"
     },
     "execution_count": 28,
     "metadata": {},
     "output_type": "execute_result"
    }
   ],
   "source": [
    "df.columns"
   ],
   "metadata": {
    "collapsed": false,
    "ExecuteTime": {
     "end_time": "2024-02-24T01:18:54.489737Z",
     "start_time": "2024-02-24T01:18:54.322178Z"
    }
   },
   "id": "3f133b19c3ab2f6e",
   "execution_count": 28
  },
  {
   "cell_type": "code",
   "outputs": [
    {
     "data": {
      "text/plain": "count    517846.000000\nmean        823.377937\nstd         353.377152\nmin         325.000000\n25%         644.000000\n50%         753.000000\n75%         820.000000\nmax        2151.000000\nName: acq_time, dtype: float64"
     },
     "execution_count": 29,
     "metadata": {},
     "output_type": "execute_result"
    }
   ],
   "source": [
    "df['acq_time'].describe()"
   ],
   "metadata": {
    "collapsed": false,
    "ExecuteTime": {
     "end_time": "2024-02-24T01:18:54.492461Z",
     "start_time": "2024-02-24T01:18:54.333735Z"
    }
   },
   "id": "a5e02200853ae3cb",
   "execution_count": 29
  },
  {
   "cell_type": "code",
   "outputs": [],
   "source": [
    "df['hours'] = df['acq_time'].apply(lambda x: int(x/100))"
   ],
   "metadata": {
    "collapsed": false,
    "ExecuteTime": {
     "end_time": "2024-02-24T01:18:54.849863Z",
     "start_time": "2024-02-24T01:18:54.357236Z"
    }
   },
   "id": "6403707b740ec239",
   "execution_count": 30
  },
  {
   "cell_type": "code",
   "outputs": [
    {
     "data": {
      "text/plain": "hours\n8     170066\n7     145990\n5      89944\n6      35431\n16     21568\n17     20158\n4      17849\n20     11451\n19      2008\n9       1011\n15       975\n21       950\n3        414\n18        31\nName: count, dtype: int64"
     },
     "execution_count": 31,
     "metadata": {},
     "output_type": "execute_result"
    }
   ],
   "source": [
    "df['hours'].value_counts()"
   ],
   "metadata": {
    "collapsed": false,
    "ExecuteTime": {
     "end_time": "2024-02-24T01:18:54.851674Z",
     "start_time": "2024-02-24T01:18:54.644636Z"
    }
   },
   "id": "443508aa71c276b4",
   "execution_count": 31
  },
  {
   "cell_type": "code",
   "outputs": [
    {
     "data": {
      "text/plain": "               hours  confidence\nhours       1.000000    0.011977\nconfidence  0.011977    1.000000",
      "text/html": "<div>\n<style scoped>\n    .dataframe tbody tr th:only-of-type {\n        vertical-align: middle;\n    }\n\n    .dataframe tbody tr th {\n        vertical-align: top;\n    }\n\n    .dataframe thead th {\n        text-align: right;\n    }\n</style>\n<table border=\"1\" class=\"dataframe\">\n  <thead>\n    <tr style=\"text-align: right;\">\n      <th></th>\n      <th>hours</th>\n      <th>confidence</th>\n    </tr>\n  </thead>\n  <tbody>\n    <tr>\n      <th>hours</th>\n      <td>1.000000</td>\n      <td>0.011977</td>\n    </tr>\n    <tr>\n      <th>confidence</th>\n      <td>0.011977</td>\n      <td>1.000000</td>\n    </tr>\n  </tbody>\n</table>\n</div>"
     },
     "execution_count": 32,
     "metadata": {},
     "output_type": "execute_result"
    }
   ],
   "source": [
    "df[['hours','confidence']].corr()"
   ],
   "metadata": {
    "collapsed": false,
    "ExecuteTime": {
     "end_time": "2024-02-24T01:18:54.911489Z",
     "start_time": "2024-02-24T01:18:54.654039Z"
    }
   },
   "id": "ea298ed7400f21d2",
   "execution_count": 32
  },
  {
   "cell_type": "code",
   "outputs": [
    {
     "data": {
      "text/plain": "Index(['latitude', 'longitude', 'brightness', 'acq_date', 'acq_time',\n       'satellite', 'confidence', 'bright_t31', 'frp', 'daynight', 'type',\n       'hours'],\n      dtype='object')"
     },
     "execution_count": 33,
     "metadata": {},
     "output_type": "execute_result"
    }
   ],
   "source": [
    "df.columns"
   ],
   "metadata": {
    "collapsed": false,
    "ExecuteTime": {
     "end_time": "2024-02-24T01:18:54.914206Z",
     "start_time": "2024-02-24T01:18:54.700211Z"
    }
   },
   "id": "900198befda9154f",
   "execution_count": 33
  },
  {
   "cell_type": "code",
   "outputs": [],
   "source": [
    "df['satellite']= df['satellite'].map({'Terra':0, 'Aqua':1})"
   ],
   "metadata": {
    "collapsed": false,
    "ExecuteTime": {
     "end_time": "2024-02-24T01:18:54.931273Z",
     "start_time": "2024-02-24T01:18:54.717458Z"
    }
   },
   "id": "b2614a172e5462be",
   "execution_count": 34
  },
  {
   "cell_type": "code",
   "outputs": [
    {
     "data": {
      "text/plain": "            satellite  confidence\nsatellite    1.000000    0.047351\nconfidence   0.047351    1.000000",
      "text/html": "<div>\n<style scoped>\n    .dataframe tbody tr th:only-of-type {\n        vertical-align: middle;\n    }\n\n    .dataframe tbody tr th {\n        vertical-align: top;\n    }\n\n    .dataframe thead th {\n        text-align: right;\n    }\n</style>\n<table border=\"1\" class=\"dataframe\">\n  <thead>\n    <tr style=\"text-align: right;\">\n      <th></th>\n      <th>satellite</th>\n      <th>confidence</th>\n    </tr>\n  </thead>\n  <tbody>\n    <tr>\n      <th>satellite</th>\n      <td>1.000000</td>\n      <td>0.047351</td>\n    </tr>\n    <tr>\n      <th>confidence</th>\n      <td>0.047351</td>\n      <td>1.000000</td>\n    </tr>\n  </tbody>\n</table>\n</div>"
     },
     "execution_count": 35,
     "metadata": {},
     "output_type": "execute_result"
    }
   ],
   "source": [
    "df[['satellite','confidence']].corr()"
   ],
   "metadata": {
    "collapsed": false,
    "ExecuteTime": {
     "end_time": "2024-02-24T01:18:54.966995Z",
     "start_time": "2024-02-24T01:18:54.754081Z"
    }
   },
   "id": "42a8164ba520c1c9",
   "execution_count": 35
  },
  {
   "cell_type": "code",
   "outputs": [],
   "source": [
    "df['acq_date'] = pd.to_datetime(df['acq_date'])"
   ],
   "metadata": {
    "collapsed": false,
    "ExecuteTime": {
     "end_time": "2024-02-24T01:18:55.055773Z",
     "start_time": "2024-02-24T01:18:54.799526Z"
    }
   },
   "id": "2c390a2db151392a",
   "execution_count": 36
  },
  {
   "cell_type": "code",
   "outputs": [
    {
     "data": {
      "text/plain": "            acq_date  confidence\nacq_date    1.000000   -0.008203\nconfidence -0.008203    1.000000",
      "text/html": "<div>\n<style scoped>\n    .dataframe tbody tr th:only-of-type {\n        vertical-align: middle;\n    }\n\n    .dataframe tbody tr th {\n        vertical-align: top;\n    }\n\n    .dataframe thead th {\n        text-align: right;\n    }\n</style>\n<table border=\"1\" class=\"dataframe\">\n  <thead>\n    <tr style=\"text-align: right;\">\n      <th></th>\n      <th>acq_date</th>\n      <th>confidence</th>\n    </tr>\n  </thead>\n  <tbody>\n    <tr>\n      <th>acq_date</th>\n      <td>1.000000</td>\n      <td>-0.008203</td>\n    </tr>\n    <tr>\n      <th>confidence</th>\n      <td>-0.008203</td>\n      <td>1.000000</td>\n    </tr>\n  </tbody>\n</table>\n</div>"
     },
     "execution_count": 37,
     "metadata": {},
     "output_type": "execute_result"
    }
   ],
   "source": [
    "df[['acq_date','confidence']].corr()"
   ],
   "metadata": {
    "collapsed": false,
    "ExecuteTime": {
     "end_time": "2024-02-24T01:18:55.114287Z",
     "start_time": "2024-02-24T01:18:54.855449Z"
    }
   },
   "id": "448ae02b2e479903",
   "execution_count": 37
  },
  {
   "cell_type": "code",
   "outputs": [
    {
     "data": {
      "text/plain": "Index(['latitude', 'longitude', 'brightness', 'acq_date', 'acq_time',\n       'satellite', 'confidence', 'bright_t31', 'frp', 'daynight', 'type',\n       'hours'],\n      dtype='object')"
     },
     "execution_count": 38,
     "metadata": {},
     "output_type": "execute_result"
    }
   ],
   "source": [
    "df.columns"
   ],
   "metadata": {
    "collapsed": false,
    "ExecuteTime": {
     "end_time": "2024-02-24T01:18:55.116368Z",
     "start_time": "2024-02-24T01:18:54.883901Z"
    }
   },
   "id": "2a9b1b15469875a0",
   "execution_count": 38
  },
  {
   "cell_type": "code",
   "outputs": [],
   "source": [
    "from sklearn.model_selection import StratifiedShuffleSplit\n",
    "target=['confidence']\n",
    "\n",
    "feature_cols = [x for x in df.columns if x not in target]\n",
    "\n",
    "strat_shuff_split = StratifiedShuffleSplit(n_splits=1, test_size=0.2, random_state=42)\n",
    "\n",
    "# Get the index values from the generator\n",
    "train_idx, test_idx = next(strat_shuff_split.split(df[feature_cols], df[target]))\n",
    "\n",
    "# Create the data sets\n",
    "X_train = df.loc[train_idx, feature_cols]\n",
    "y_train = df.loc[train_idx, target]\n",
    "X_test = df.loc[test_idx, feature_cols]\n",
    "y_test = df.loc[test_idx, target]"
   ],
   "metadata": {
    "collapsed": false,
    "ExecuteTime": {
     "end_time": "2024-02-24T01:18:58.262066Z",
     "start_time": "2024-02-24T01:18:54.894018Z"
    }
   },
   "id": "1d734f45de7a6b34",
   "execution_count": 39
  },
  {
   "cell_type": "code",
   "outputs": [],
   "source": [
    "X = df[['latitude','longitude','month','brightness','scan','acq_time','bright_t31','daynight']]\n",
    "y = df['frp']\n",
    "from sklearn.model_selection import train_test_split\n",
    "X_train, X_test, y_train, y_test = train_test_split(X, y, test_size=0.3)"
   ],
   "metadata": {
    "collapsed": false,
    "ExecuteTime": {
     "end_time": "2024-02-24T01:43:28.617821Z",
     "start_time": "2024-02-24T01:43:28.252056Z"
    }
   },
   "id": "e12f1a6b65f02fa1",
   "execution_count": 72
  },
  {
   "cell_type": "code",
   "outputs": [],
   "source": [
    "import pickle \n",
    "\n",
    "gradient = pickle.load(open(\"GradientBoostingRegressor1.pkl\",\"rb\"))"
   ],
   "metadata": {
    "collapsed": false,
    "ExecuteTime": {
     "end_time": "2024-02-24T01:39:28.815408Z",
     "start_time": "2024-02-24T01:39:28.753855Z"
    }
   },
   "id": "c1c5067deafb41f8",
   "execution_count": 62
  },
  {
   "cell_type": "code",
   "outputs": [
    {
     "ename": "ValueError",
     "evalue": "Failed to convert a NumPy array to a Tensor (Unsupported object type float).",
     "output_type": "error",
     "traceback": [
      "\u001B[0;31m---------------------------------------------------------------------------\u001B[0m",
      "\u001B[0;31mValueError\u001B[0m                                Traceback (most recent call last)",
      "Cell \u001B[0;32mIn[71], line 1\u001B[0m\n\u001B[0;32m----> 1\u001B[0m gradient\u001B[38;5;241m.\u001B[39mscore(\u001B[43mmodel\u001B[49m\u001B[38;5;241;43m.\u001B[39;49m\u001B[43mpredict\u001B[49m\u001B[43m(\u001B[49m\u001B[43mX_test\u001B[49m\u001B[43m)\u001B[49m,y_test)\n",
      "File \u001B[0;32m~/.local/share/virtualenvs/Forest_Fire_Prediction-Mr6mG4gB/lib/python3.10/site-packages/keras/src/utils/traceback_utils.py:123\u001B[0m, in \u001B[0;36merror_handler\u001B[0;34m(*args, **kwargs)\u001B[0m\n\u001B[1;32m    121\u001B[0m if arguments_context:\n\u001B[1;32m    122\u001B[0m     arguments_context = \"\\n\".join(arguments_context)\n\u001B[0;32m--> 123\u001B[0m     # Get original error message and append information to it.\n\u001B[1;32m    124\u001B[0m     if isinstance(e, tf.errors.OpError):\n\u001B[1;32m    125\u001B[0m         message = e.message\n",
      "File \u001B[0;32m~/.local/share/virtualenvs/Forest_Fire_Prediction-Mr6mG4gB/lib/python3.10/site-packages/tensorflow/python/framework/constant_op.py:103\u001B[0m, in \u001B[0;36mconvert_to_eager_tensor\u001B[0;34m(value, ctx, dtype)\u001B[0m\n\u001B[1;32m    101\u001B[0m     dtype \u001B[38;5;241m=\u001B[39m dtypes\u001B[38;5;241m.\u001B[39mas_dtype(dtype)\u001B[38;5;241m.\u001B[39mas_datatype_enum\n\u001B[1;32m    102\u001B[0m ctx\u001B[38;5;241m.\u001B[39mensure_initialized()\n\u001B[0;32m--> 103\u001B[0m \u001B[38;5;28;01mreturn\u001B[39;00m \u001B[43mops\u001B[49m\u001B[38;5;241;43m.\u001B[39;49m\u001B[43mEagerTensor\u001B[49m\u001B[43m(\u001B[49m\u001B[43mvalue\u001B[49m\u001B[43m,\u001B[49m\u001B[43m \u001B[49m\u001B[43mctx\u001B[49m\u001B[38;5;241;43m.\u001B[39;49m\u001B[43mdevice_name\u001B[49m\u001B[43m,\u001B[49m\u001B[43m \u001B[49m\u001B[43mdtype\u001B[49m\u001B[43m)\u001B[49m\n",
      "\u001B[0;31mValueError\u001B[0m: Failed to convert a NumPy array to a Tensor (Unsupported object type float)."
     ]
    }
   ],
   "source": [
    "gradient.score(model.predict(X_test),y_test)"
   ],
   "metadata": {
    "collapsed": false,
    "ExecuteTime": {
     "end_time": "2024-02-24T01:42:02.711853Z",
     "start_time": "2024-02-24T01:42:02.470520Z"
    }
   },
   "id": "84d3bcee4ef00fce",
   "execution_count": 71
  },
  {
   "cell_type": "code",
   "outputs": [
    {
     "name": "stderr",
     "output_type": "stream",
     "text": [
      "2024-02-24 01:04:02.164714: I tensorflow/core/platform/cpu_feature_guard.cc:182] This TensorFlow binary is optimized to use available CPU instructions in performance-critical operations.\n",
      "To enable the following instructions: AVX2 FMA, in other operations, rebuild TensorFlow with the appropriate compiler flags.\n"
     ]
    },
    {
     "ename": "ModuleNotFoundError",
     "evalue": "No module named 'kerastuner'",
     "output_type": "error",
     "traceback": [
      "\u001B[0;31m---------------------------------------------------------------------------\u001B[0m",
      "\u001B[0;31mModuleNotFoundError\u001B[0m                       Traceback (most recent call last)",
      "Cell \u001B[0;32mIn[72], line 6\u001B[0m\n\u001B[1;32m      4\u001B[0m \u001B[38;5;28;01mfrom\u001B[39;00m \u001B[38;5;21;01mtensorflow\u001B[39;00m\u001B[38;5;21;01m.\u001B[39;00m\u001B[38;5;21;01mkeras\u001B[39;00m\u001B[38;5;21;01m.\u001B[39;00m\u001B[38;5;21;01mutils\u001B[39;00m \u001B[38;5;28;01mimport\u001B[39;00m to_categorical\n\u001B[1;32m      5\u001B[0m \u001B[38;5;28;01mfrom\u001B[39;00m \u001B[38;5;21;01msklearn\u001B[39;00m\u001B[38;5;21;01m.\u001B[39;00m\u001B[38;5;21;01mpreprocessing\u001B[39;00m \u001B[38;5;28;01mimport\u001B[39;00m StandardScaler\n\u001B[0;32m----> 6\u001B[0m \u001B[38;5;28;01mfrom\u001B[39;00m \u001B[38;5;21;01mkerastuner\u001B[39;00m\u001B[38;5;21;01m.\u001B[39;00m\u001B[38;5;21;01mtuners\u001B[39;00m \u001B[38;5;28;01mimport\u001B[39;00m RandomSearch\n\u001B[1;32m      7\u001B[0m \u001B[38;5;28;01mimport\u001B[39;00m \u001B[38;5;21;01mtqdm\u001B[39;00m\n\u001B[1;32m     10\u001B[0m \u001B[38;5;66;03m# Scale the data\u001B[39;00m\n",
      "\u001B[0;31mModuleNotFoundError\u001B[0m: No module named 'kerastuner'"
     ]
    }
   ],
   "source": [
    "import tensorflow as tf\n",
    "from tensorflow import keras\n",
    "from tensorflow.keras import layers\n",
    "from tensorflow.keras.utils import to_categorical\n",
    "from sklearn.preprocessing import StandardScaler\n",
    "from kerastuner.tuners import RandomSearch\n",
    "import tqdm\n",
    "\n",
    "\n",
    "# Scale the data\n",
    "sc = StandardScaler()\n",
    "X_train = sc.fit_transform(X_train)\n",
    "X_test = sc.transform(X_test)\n",
    "\n",
    "# Convert the labels to categorical\n",
    "y_train_categorical = to_categorical(y_train)\n",
    "y_test_categorical = to_categorical(y_test)\n",
    "\n",
    "def build_model(hp):\n",
    "    model = keras.Sequential()\n",
    "    for i in range(hp.Int('num_layers', 2, 20)):\n",
    "        model.add(layers.Dense(units=hp.Int('units_' + str(i),\n",
    "                                            min_value=32,\n",
    "                                            max_value=512,\n",
    "                                            step=32),\n",
    "                               activation='relu'))\n",
    "    model.add(layers.Dense(len(y_train.iloc[:, 0].unique()), activation='softmax'))\n",
    "    model.compile(\n",
    "        optimizer=keras.optimizers.Adam(\n",
    "            hp.Choice('learning_rate', [1e-2, 1e-3, 1e-4])),\n",
    "        loss='categorical_crossentropy',\n",
    "        metrics=['accuracy'])\n",
    "    return model\n",
    "\n",
    "# Define the distribution strategy\n",
    "strategy = tf.distribute.MirroredStrategy()\n",
    "\n",
    "with strategy.scope():\n",
    "    tuner = RandomSearch(\n",
    "        build_model,\n",
    "        objective='val_accuracy',\n",
    "        max_trials=2,\n",
    "        executions_per_trial=3,\n",
    "        directory='/kaggle/working/runs',\n",
    "        project_name='forestfire')\n",
    "\n",
    "tuner.search_space_summary()\n",
    "\n",
    "tuner.search(X_train, y_train_categorical,\n",
    "             epochs=3,\n",
    "             validation_data=(X_test, y_test_categorical))\n",
    "\n",
    "tuner.results_summary()\n",
    "\n",
    "# Retrieve the best model.\n",
    "best_model = tuner.get_best_models(num_models=1)[0]\n",
    "\n",
    "# Evaluate the best model.\n",
    "_, accuracy = best_model.evaluate(X_test, y_test_categorical)\n",
    "print(f'Accuracy: {accuracy * 100}%')"
   ],
   "metadata": {
    "collapsed": false,
    "ExecuteTime": {
     "end_time": "2024-02-23T19:34:12.621435Z",
     "start_time": "2024-02-23T19:33:42.594242Z"
    }
   },
   "id": "4827cd935f3f35a1",
   "execution_count": 72
  }
 ],
 "metadata": {
  "kernelspec": {
   "display_name": "Python 3",
   "language": "python",
   "name": "python3"
  },
  "language_info": {
   "codemirror_mode": {
    "name": "ipython",
    "version": 2
   },
   "file_extension": ".py",
   "mimetype": "text/x-python",
   "name": "python",
   "nbconvert_exporter": "python",
   "pygments_lexer": "ipython2",
   "version": "2.7.6"
  }
 },
 "nbformat": 4,
 "nbformat_minor": 5
}
