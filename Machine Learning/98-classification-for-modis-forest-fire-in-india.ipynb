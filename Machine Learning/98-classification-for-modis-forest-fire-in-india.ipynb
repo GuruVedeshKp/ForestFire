{
 "cells": [
  {
   "cell_type": "markdown",
   "id": "211f478c",
   "metadata": {
    "papermill": {
     "duration": 0.012462,
     "end_time": "2022-11-05T20:18:07.132413",
     "exception": false,
     "start_time": "2022-11-05T20:18:07.119951",
     "status": "completed"
    },
    "tags": []
   },
   "source": [
    "# Forest Fire Classification model "
   ]
  },
  {
   "cell_type": "markdown",
   "id": "682ae0aa",
   "metadata": {
    "papermill": {
     "duration": 0.012471,
     "end_time": "2022-11-05T20:18:07.157447",
     "exception": false,
     "start_time": "2022-11-05T20:18:07.144976",
     "status": "completed"
    },
    "tags": []
   },
   "source": [
    "### This notebook makes the use of the `Active Fire Data` for India in the year 2021 provided by `NASA`.\n",
    "- You can find several other datasets provided by  [here](https://www.earthdata.nasa.gov/)"
   ]
  },
  {
   "cell_type": "markdown",
   "id": "cd43c128",
   "metadata": {
    "papermill": {
     "duration": 0.01101,
     "end_time": "2022-11-05T20:18:07.179722",
     "exception": false,
     "start_time": "2022-11-05T20:18:07.168712",
     "status": "completed"
    },
    "tags": []
   },
   "source": [
    "### Let's first analyse the dataset"
   ]
  },
  {
   "cell_type": "code",
   "execution_count": 71,
   "id": "6038bd18",
   "metadata": {
    "execution": {
     "iopub.execute_input": "2022-11-05T20:18:07.204878Z",
     "iopub.status.busy": "2022-11-05T20:18:07.204038Z",
     "iopub.status.idle": "2022-11-05T20:18:08.099696Z",
     "shell.execute_reply": "2022-11-05T20:18:08.098487Z"
    },
    "papermill": {
     "duration": 0.911147,
     "end_time": "2022-11-05T20:18:08.102362",
     "exception": false,
     "start_time": "2022-11-05T20:18:07.191215",
     "status": "completed"
    },
    "tags": [],
    "ExecuteTime": {
     "end_time": "2024-02-23T05:20:23.558181Z",
     "start_time": "2024-02-23T05:20:23.248515Z"
    }
   },
   "outputs": [],
   "source": [
    "import pandas as pd\n",
    "import numpy as np\n",
    "from sklearn.metrics import confusion_matrix, accuracy_score, classification_report, f1_score"
   ]
  },
  {
   "cell_type": "code",
   "execution_count": 92,
   "id": "349f2f81",
   "metadata": {
    "execution": {
     "iopub.execute_input": "2022-11-05T20:18:08.126687Z",
     "iopub.status.busy": "2022-11-05T20:18:08.126312Z",
     "iopub.status.idle": "2022-11-05T20:18:08.168622Z",
     "shell.execute_reply": "2022-11-05T20:18:08.167699Z"
    },
    "papermill": {
     "duration": 0.057079,
     "end_time": "2022-11-05T20:18:08.170871",
     "exception": false,
     "start_time": "2022-11-05T20:18:08.113792",
     "status": "completed"
    },
    "tags": [],
    "ExecuteTime": {
     "end_time": "2024-02-23T05:40:10.196359Z",
     "start_time": "2024-02-23T05:40:08.710839Z"
    }
   },
   "outputs": [],
   "source": [
    "data_17 = pd.read_csv(\"../data/modis_2017_India.csv\")\n",
    "data_18 = pd.read_csv(\"../data/modis_2018_India.csv\")\n",
    "data_19 = pd.read_csv(\"../data/modis_2019_India.csv\")\n",
    "data_20 = pd.read_csv(\"../data/modis_2020_India.csv\")\n",
    "data_21 = pd.read_csv(\"../data/modis_2021_India.csv\")\n",
    "data_22 = pd.read_csv(\"../data/modis_2022_India.csv\")"
   ]
  },
  {
   "cell_type": "code",
   "execution_count": 93,
   "id": "7ea4cbda",
   "metadata": {
    "execution": {
     "iopub.execute_input": "2022-11-05T20:18:08.195929Z",
     "iopub.status.busy": "2022-11-05T20:18:08.195096Z",
     "iopub.status.idle": "2022-11-05T20:18:08.230841Z",
     "shell.execute_reply": "2022-11-05T20:18:08.229475Z"
    },
    "papermill": {
     "duration": 0.050468,
     "end_time": "2022-11-05T20:18:08.232856",
     "exception": false,
     "start_time": "2022-11-05T20:18:08.182388",
     "status": "completed"
    },
    "tags": [],
    "ExecuteTime": {
     "end_time": "2024-02-23T05:40:10.235740Z",
     "start_time": "2024-02-23T05:40:10.169155Z"
    }
   },
   "outputs": [],
   "source": [
    "# Merge all dataframes into one dataframe\n",
    "df = pd.concat([data_17,data_18,data_19,data_20,data_21,data_22])"
   ]
  },
  {
   "cell_type": "markdown",
   "id": "56528ec6",
   "metadata": {
    "papermill": {
     "duration": 0.011139,
     "end_time": "2022-11-05T20:18:08.255767",
     "exception": false,
     "start_time": "2022-11-05T20:18:08.244628",
     "status": "completed"
    },
    "tags": []
   },
   "source": [
    "### The columns represent the following: \n",
    "- `latitude`: Latitude of the fire pixel detected by the satellite *(degrees)*\n",
    "- `longitude`: Longitude of the fire pixel detected by the satellite *(degrees)*\n",
    "- `brightness`: Brightness temperature of the fire pixel *(in K)*\n",
    "- `scan`: Area of a MODIS pixel at the Earth’s surface *(Along-scan: ΔS)*\n",
    "- `track`: Area of a MODIS pixel at the Earth’s surface *(Along-track: ΔT)*\n",
    "- `acq_time`: Time at which the fire was detected\n",
    "- `satellite`: Satellite used to detect the fire. Either Terra(T) or Aqua(A)\n",
    "- `instrument`: MODIS\n",
    "- `confidence`: Detection confidence *(range 0-100)*\n",
    "- `bright_t31`:  Band 31 brightness temperature of the pixel *(in K)*\n",
    "- `frp`: Fire radiative power *(in MW- megawatts)*\n",
    "- `daynight`: Detected during the day or night. Either Day(D) or Night(N) \n",
    "- `type`: Inferred hot spot type: \n",
    "         - 0= presumed vegetation fire \n",
    "         - 1= active volcano\n",
    "         - 2= other static land source\n",
    "         - 3= offshore"
   ]
  },
  {
   "cell_type": "markdown",
   "id": "16a21611",
   "metadata": {
    "papermill": {
     "duration": 0.011111,
     "end_time": "2022-11-05T20:18:08.278239",
     "exception": false,
     "start_time": "2022-11-05T20:18:08.267128",
     "status": "completed"
    },
    "tags": []
   },
   "source": [
    "### In this notebook, we will be building models to predict the type of forest fire detected by MODIS."
   ]
  },
  {
   "cell_type": "code",
   "outputs": [
    {
     "data": {
      "text/plain": "Index(['latitude', 'longitude', 'brightness', 'scan', 'track', 'acq_date',\n       'acq_time', 'satellite', 'instrument', 'confidence', 'version',\n       'bright_t31', 'frp', 'daynight', 'type'],\n      dtype='object')"
     },
     "execution_count": 106,
     "metadata": {},
     "output_type": "execute_result"
    }
   ],
   "source": [
    "df.columns"
   ],
   "metadata": {
    "collapsed": false,
    "ExecuteTime": {
     "end_time": "2024-02-23T05:47:15.693711Z",
     "start_time": "2024-02-23T05:47:15.640900Z"
    }
   },
   "id": "c9e5d9615fe5cda4",
   "execution_count": 106
  },
  {
   "cell_type": "code",
   "execution_count": 108,
   "id": "1f366629",
   "metadata": {
    "execution": {
     "iopub.execute_input": "2022-11-05T20:18:08.303977Z",
     "iopub.status.busy": "2022-11-05T20:18:08.303599Z",
     "iopub.status.idle": "2022-11-05T20:18:08.319493Z",
     "shell.execute_reply": "2022-11-05T20:18:08.318287Z"
    },
    "papermill": {
     "duration": 0.031804,
     "end_time": "2022-11-05T20:18:08.321488",
     "exception": false,
     "start_time": "2022-11-05T20:18:08.289684",
     "status": "completed"
    },
    "tags": [],
    "ExecuteTime": {
     "end_time": "2024-02-23T05:48:53.863713Z",
     "start_time": "2024-02-23T05:48:53.820627Z"
    }
   },
   "outputs": [
    {
     "name": "stdout",
     "output_type": "stream",
     "text": [
      "satellite\n",
      "Aqua     355660\n",
      "Terra    161917\n",
      "Name: count, dtype: int64\n",
      "daynight\n",
      "D    460469\n",
      "N     57108\n",
      "Name: count, dtype: int64\n",
      "type\n",
      "0    490747\n",
      "2     26830\n",
      "Name: count, dtype: int64\n"
     ]
    }
   ],
   "source": [
    "print(df['satellite'].value_counts())\n",
    "print(df['daynight'].value_counts())\n",
    "print(df['type'].value_counts())"
   ]
  },
  {
   "cell_type": "markdown",
   "id": "58875675",
   "metadata": {
    "papermill": {
     "duration": 0.011224,
     "end_time": "2022-11-05T20:18:08.344619",
     "exception": false,
     "start_time": "2022-11-05T20:18:08.333395",
     "status": "completed"
    },
    "tags": []
   },
   "source": [
    "> We can see that: \n",
    "- There is a huge imbalance of classes in the `type` column for number `3`. Hence we can drop it."
   ]
  },
  {
   "cell_type": "code",
   "execution_count": 107,
   "id": "5ee8839e",
   "metadata": {
    "execution": {
     "iopub.execute_input": "2022-11-05T20:18:08.369608Z",
     "iopub.status.busy": "2022-11-05T20:18:08.369249Z",
     "iopub.status.idle": "2022-11-05T20:18:08.479852Z",
     "shell.execute_reply": "2022-11-05T20:18:08.478557Z"
    },
    "papermill": {
     "duration": 0.126127,
     "end_time": "2022-11-05T20:18:08.482475",
     "exception": false,
     "start_time": "2022-11-05T20:18:08.356348",
     "status": "completed"
    },
    "tags": [],
    "ExecuteTime": {
     "end_time": "2024-02-23T05:48:48.885163Z",
     "start_time": "2024-02-23T05:48:48.766968Z"
    }
   },
   "outputs": [],
   "source": [
    "df = df.query('type != 1 and type != 3')\n",
    "df.reset_index(drop=True, inplace=True)"
   ]
  },
  {
   "cell_type": "markdown",
   "id": "d8976328",
   "metadata": {
    "papermill": {
     "duration": 0.011403,
     "end_time": "2022-11-05T20:18:08.505747",
     "exception": false,
     "start_time": "2022-11-05T20:18:08.494344",
     "status": "completed"
    },
    "tags": []
   },
   "source": [
    "### Handling categorical values\n",
    "- Since we have 2 values (Terra and Aqua) for satellite, we will be using a binary encoder"
   ]
  },
  {
   "cell_type": "code",
   "outputs": [
    {
     "data": {
      "text/plain": "(517577, 15)"
     },
     "execution_count": 109,
     "metadata": {},
     "output_type": "execute_result"
    }
   ],
   "source": [
    "df.shape"
   ],
   "metadata": {
    "collapsed": false,
    "ExecuteTime": {
     "end_time": "2024-02-23T05:49:01.603441Z",
     "start_time": "2024-02-23T05:49:01.590356Z"
    }
   },
   "id": "86bf05da7dffed5c",
   "execution_count": 109
  },
  {
   "cell_type": "code",
   "execution_count": 110,
   "id": "e0508754",
   "metadata": {
    "execution": {
     "iopub.execute_input": "2022-11-05T20:18:08.530625Z",
     "iopub.status.busy": "2022-11-05T20:18:08.530253Z",
     "iopub.status.idle": "2022-11-05T20:18:08.770893Z",
     "shell.execute_reply": "2022-11-05T20:18:08.769698Z"
    },
    "papermill": {
     "duration": 0.256297,
     "end_time": "2022-11-05T20:18:08.773847",
     "exception": false,
     "start_time": "2022-11-05T20:18:08.517550",
     "status": "completed"
    },
    "tags": [],
    "ExecuteTime": {
     "end_time": "2024-02-23T05:49:10.102656Z",
     "start_time": "2024-02-23T05:49:07.402003Z"
    }
   },
   "outputs": [],
   "source": [
    "import category_encoders as ce\n",
    "\n",
    "encoder = ce.BinaryEncoder(cols=['satellite'])\n",
    "df = encoder.fit_transform(df)\n",
    "encoder = ce.BinaryEncoder(cols=['daynight'])\n",
    "df = encoder.fit_transform(df)"
   ]
  },
  {
   "cell_type": "code",
   "execution_count": 111,
   "id": "147aa152",
   "metadata": {
    "execution": {
     "iopub.execute_input": "2022-11-05T20:18:08.800509Z",
     "iopub.status.busy": "2022-11-05T20:18:08.800122Z",
     "iopub.status.idle": "2022-11-05T20:18:08.818765Z",
     "shell.execute_reply": "2022-11-05T20:18:08.817460Z"
    },
    "papermill": {
     "duration": 0.034116,
     "end_time": "2022-11-05T20:18:08.820853",
     "exception": false,
     "start_time": "2022-11-05T20:18:08.786737",
     "status": "completed"
    },
    "tags": [],
    "ExecuteTime": {
     "end_time": "2024-02-23T05:49:12.102975Z",
     "start_time": "2024-02-23T05:49:12.062169Z"
    }
   },
   "outputs": [
    {
     "data": {
      "text/plain": "   latitude  longitude  brightness  scan  track    acq_date  acq_time  \\\n0   31.4814    75.7365       301.5   1.4    1.2  2017-01-01       529   \n1   28.7628    79.5194       311.3   1.0    1.0  2017-01-01       530   \n2   28.0761    79.8547       304.2   1.0    1.0  2017-01-01       530   \n3   28.5888    78.7448       305.0   1.0    1.0  2017-01-01       530   \n4   29.4661    77.1339       303.3   1.1    1.1  2017-01-01       530   \n\n   satellite_0  satellite_1 instrument  confidence  version  bright_t31  frp  \\\n0            0            1      MODIS          48      6.2       291.1  5.4   \n1            0            1      MODIS          71      6.2       292.8  8.6   \n2            0            1      MODIS          58      6.2       290.6  5.0   \n3            0            1      MODIS          60      6.2       293.5  4.3   \n4            0            1      MODIS          56      6.2       291.6  5.6   \n\n   daynight_0  daynight_1  type  \n0           0           1     0  \n1           0           1     0  \n2           0           1     0  \n3           0           1     0  \n4           0           1     0  ",
      "text/html": "<div>\n<style scoped>\n    .dataframe tbody tr th:only-of-type {\n        vertical-align: middle;\n    }\n\n    .dataframe tbody tr th {\n        vertical-align: top;\n    }\n\n    .dataframe thead th {\n        text-align: right;\n    }\n</style>\n<table border=\"1\" class=\"dataframe\">\n  <thead>\n    <tr style=\"text-align: right;\">\n      <th></th>\n      <th>latitude</th>\n      <th>longitude</th>\n      <th>brightness</th>\n      <th>scan</th>\n      <th>track</th>\n      <th>acq_date</th>\n      <th>acq_time</th>\n      <th>satellite_0</th>\n      <th>satellite_1</th>\n      <th>instrument</th>\n      <th>confidence</th>\n      <th>version</th>\n      <th>bright_t31</th>\n      <th>frp</th>\n      <th>daynight_0</th>\n      <th>daynight_1</th>\n      <th>type</th>\n    </tr>\n  </thead>\n  <tbody>\n    <tr>\n      <th>0</th>\n      <td>31.4814</td>\n      <td>75.7365</td>\n      <td>301.5</td>\n      <td>1.4</td>\n      <td>1.2</td>\n      <td>2017-01-01</td>\n      <td>529</td>\n      <td>0</td>\n      <td>1</td>\n      <td>MODIS</td>\n      <td>48</td>\n      <td>6.2</td>\n      <td>291.1</td>\n      <td>5.4</td>\n      <td>0</td>\n      <td>1</td>\n      <td>0</td>\n    </tr>\n    <tr>\n      <th>1</th>\n      <td>28.7628</td>\n      <td>79.5194</td>\n      <td>311.3</td>\n      <td>1.0</td>\n      <td>1.0</td>\n      <td>2017-01-01</td>\n      <td>530</td>\n      <td>0</td>\n      <td>1</td>\n      <td>MODIS</td>\n      <td>71</td>\n      <td>6.2</td>\n      <td>292.8</td>\n      <td>8.6</td>\n      <td>0</td>\n      <td>1</td>\n      <td>0</td>\n    </tr>\n    <tr>\n      <th>2</th>\n      <td>28.0761</td>\n      <td>79.8547</td>\n      <td>304.2</td>\n      <td>1.0</td>\n      <td>1.0</td>\n      <td>2017-01-01</td>\n      <td>530</td>\n      <td>0</td>\n      <td>1</td>\n      <td>MODIS</td>\n      <td>58</td>\n      <td>6.2</td>\n      <td>290.6</td>\n      <td>5.0</td>\n      <td>0</td>\n      <td>1</td>\n      <td>0</td>\n    </tr>\n    <tr>\n      <th>3</th>\n      <td>28.5888</td>\n      <td>78.7448</td>\n      <td>305.0</td>\n      <td>1.0</td>\n      <td>1.0</td>\n      <td>2017-01-01</td>\n      <td>530</td>\n      <td>0</td>\n      <td>1</td>\n      <td>MODIS</td>\n      <td>60</td>\n      <td>6.2</td>\n      <td>293.5</td>\n      <td>4.3</td>\n      <td>0</td>\n      <td>1</td>\n      <td>0</td>\n    </tr>\n    <tr>\n      <th>4</th>\n      <td>29.4661</td>\n      <td>77.1339</td>\n      <td>303.3</td>\n      <td>1.1</td>\n      <td>1.1</td>\n      <td>2017-01-01</td>\n      <td>530</td>\n      <td>0</td>\n      <td>1</td>\n      <td>MODIS</td>\n      <td>56</td>\n      <td>6.2</td>\n      <td>291.6</td>\n      <td>5.6</td>\n      <td>0</td>\n      <td>1</td>\n      <td>0</td>\n    </tr>\n  </tbody>\n</table>\n</div>"
     },
     "execution_count": 111,
     "metadata": {},
     "output_type": "execute_result"
    }
   ],
   "source": [
    "df.head()"
   ]
  },
  {
   "cell_type": "markdown",
   "id": "9aa51be6",
   "metadata": {
    "papermill": {
     "duration": 0.011484,
     "end_time": "2022-11-05T20:18:08.844353",
     "exception": false,
     "start_time": "2022-11-05T20:18:08.832869",
     "status": "completed"
    },
    "tags": []
   },
   "source": [
    "- Here `satellite_0` is for Aqua while `satellite_1` is for Terra\n",
    "- And `daynight_0` is for Day while `daynight_1` is for Night\n",
    "- Hence we can remove one of them"
   ]
  },
  {
   "cell_type": "code",
   "execution_count": 112,
   "id": "fa0c001e",
   "metadata": {
    "execution": {
     "iopub.execute_input": "2022-11-05T20:18:08.870999Z",
     "iopub.status.busy": "2022-11-05T20:18:08.870491Z",
     "iopub.status.idle": "2022-11-05T20:18:08.875875Z",
     "shell.execute_reply": "2022-11-05T20:18:08.874963Z"
    },
    "papermill": {
     "duration": 0.020798,
     "end_time": "2022-11-05T20:18:08.877717",
     "exception": false,
     "start_time": "2022-11-05T20:18:08.856919",
     "status": "completed"
    },
    "tags": [],
    "ExecuteTime": {
     "end_time": "2024-02-23T05:49:17.603019Z",
     "start_time": "2024-02-23T05:49:16.101949Z"
    }
   },
   "outputs": [],
   "source": [
    "df=df.drop(['satellite_1','daynight_1'], axis=1)\n",
    "df['acq_date'] = pd.to_datetime(df['acq_date'])\n",
    "df['acq_date'] = df['acq_date'].apply(lambda x: x.timestamp())"
   ]
  },
  {
   "cell_type": "markdown",
   "id": "20a98af7",
   "metadata": {
    "papermill": {
     "duration": 0.011798,
     "end_time": "2022-11-05T20:18:08.901810",
     "exception": false,
     "start_time": "2022-11-05T20:18:08.890012",
     "status": "completed"
    },
    "tags": []
   },
   "source": [
    "### Handling the time column `acq_time`\n",
    "- Since it's in the format HHMM, we will only extract the hours part of the time, minutes won't be relevant for our model. \n",
    "- using floor division we removed last 2 digits that represented the minutes"
   ]
  },
  {
   "cell_type": "code",
   "execution_count": 113,
   "id": "3bd15600",
   "metadata": {
    "execution": {
     "iopub.execute_input": "2022-11-05T20:18:08.927830Z",
     "iopub.status.busy": "2022-11-05T20:18:08.927478Z",
     "iopub.status.idle": "2022-11-05T20:18:08.944501Z",
     "shell.execute_reply": "2022-11-05T20:18:08.943278Z"
    },
    "papermill": {
     "duration": 0.032857,
     "end_time": "2022-11-05T20:18:08.946883",
     "exception": false,
     "start_time": "2022-11-05T20:18:08.914026",
     "status": "completed"
    },
    "tags": [],
    "ExecuteTime": {
     "end_time": "2024-02-23T05:49:24.312692Z",
     "start_time": "2024-02-23T05:49:24.251628Z"
    }
   },
   "outputs": [
    {
     "data": {
      "text/plain": "   latitude  longitude  brightness  scan  track      acq_date  acq_time  \\\n0   31.4814    75.7365       301.5   1.4    1.2  1.483229e+09         5   \n1   28.7628    79.5194       311.3   1.0    1.0  1.483229e+09         5   \n2   28.0761    79.8547       304.2   1.0    1.0  1.483229e+09         5   \n3   28.5888    78.7448       305.0   1.0    1.0  1.483229e+09         5   \n4   29.4661    77.1339       303.3   1.1    1.1  1.483229e+09         5   \n\n   satellite_0 instrument  confidence  version  bright_t31  frp  daynight_0  \\\n0            0      MODIS          48      6.2       291.1  5.4           0   \n1            0      MODIS          71      6.2       292.8  8.6           0   \n2            0      MODIS          58      6.2       290.6  5.0           0   \n3            0      MODIS          60      6.2       293.5  4.3           0   \n4            0      MODIS          56      6.2       291.6  5.6           0   \n\n   type  \n0     0  \n1     0  \n2     0  \n3     0  \n4     0  ",
      "text/html": "<div>\n<style scoped>\n    .dataframe tbody tr th:only-of-type {\n        vertical-align: middle;\n    }\n\n    .dataframe tbody tr th {\n        vertical-align: top;\n    }\n\n    .dataframe thead th {\n        text-align: right;\n    }\n</style>\n<table border=\"1\" class=\"dataframe\">\n  <thead>\n    <tr style=\"text-align: right;\">\n      <th></th>\n      <th>latitude</th>\n      <th>longitude</th>\n      <th>brightness</th>\n      <th>scan</th>\n      <th>track</th>\n      <th>acq_date</th>\n      <th>acq_time</th>\n      <th>satellite_0</th>\n      <th>instrument</th>\n      <th>confidence</th>\n      <th>version</th>\n      <th>bright_t31</th>\n      <th>frp</th>\n      <th>daynight_0</th>\n      <th>type</th>\n    </tr>\n  </thead>\n  <tbody>\n    <tr>\n      <th>0</th>\n      <td>31.4814</td>\n      <td>75.7365</td>\n      <td>301.5</td>\n      <td>1.4</td>\n      <td>1.2</td>\n      <td>1.483229e+09</td>\n      <td>5</td>\n      <td>0</td>\n      <td>MODIS</td>\n      <td>48</td>\n      <td>6.2</td>\n      <td>291.1</td>\n      <td>5.4</td>\n      <td>0</td>\n      <td>0</td>\n    </tr>\n    <tr>\n      <th>1</th>\n      <td>28.7628</td>\n      <td>79.5194</td>\n      <td>311.3</td>\n      <td>1.0</td>\n      <td>1.0</td>\n      <td>1.483229e+09</td>\n      <td>5</td>\n      <td>0</td>\n      <td>MODIS</td>\n      <td>71</td>\n      <td>6.2</td>\n      <td>292.8</td>\n      <td>8.6</td>\n      <td>0</td>\n      <td>0</td>\n    </tr>\n    <tr>\n      <th>2</th>\n      <td>28.0761</td>\n      <td>79.8547</td>\n      <td>304.2</td>\n      <td>1.0</td>\n      <td>1.0</td>\n      <td>1.483229e+09</td>\n      <td>5</td>\n      <td>0</td>\n      <td>MODIS</td>\n      <td>58</td>\n      <td>6.2</td>\n      <td>290.6</td>\n      <td>5.0</td>\n      <td>0</td>\n      <td>0</td>\n    </tr>\n    <tr>\n      <th>3</th>\n      <td>28.5888</td>\n      <td>78.7448</td>\n      <td>305.0</td>\n      <td>1.0</td>\n      <td>1.0</td>\n      <td>1.483229e+09</td>\n      <td>5</td>\n      <td>0</td>\n      <td>MODIS</td>\n      <td>60</td>\n      <td>6.2</td>\n      <td>293.5</td>\n      <td>4.3</td>\n      <td>0</td>\n      <td>0</td>\n    </tr>\n    <tr>\n      <th>4</th>\n      <td>29.4661</td>\n      <td>77.1339</td>\n      <td>303.3</td>\n      <td>1.1</td>\n      <td>1.1</td>\n      <td>1.483229e+09</td>\n      <td>5</td>\n      <td>0</td>\n      <td>MODIS</td>\n      <td>56</td>\n      <td>6.2</td>\n      <td>291.6</td>\n      <td>5.6</td>\n      <td>0</td>\n      <td>0</td>\n    </tr>\n  </tbody>\n</table>\n</div>"
     },
     "execution_count": 113,
     "metadata": {},
     "output_type": "execute_result"
    }
   ],
   "source": [
    "df['acq_time'] = df['acq_time']//100 \n",
    "df.head()\n",
    "    "
   ]
  },
  {
   "cell_type": "markdown",
   "id": "e3b79713",
   "metadata": {
    "papermill": {
     "duration": 0.012169,
     "end_time": "2022-11-05T20:18:08.971683",
     "exception": false,
     "start_time": "2022-11-05T20:18:08.959514",
     "status": "completed"
    },
    "tags": []
   },
   "source": [
    "### Feature Selection and finding the correlation"
   ]
  },
  {
   "cell_type": "markdown",
   "id": "2974a780",
   "metadata": {
    "papermill": {
     "duration": 0.012135,
     "end_time": "2022-11-05T20:18:08.996168",
     "exception": false,
     "start_time": "2022-11-05T20:18:08.984033",
     "status": "completed"
    },
    "tags": []
   },
   "source": [
    "- We are using `stratified shuffle split` since our dataset contains unbalanced classes for the `type` column. "
   ]
  },
  {
   "cell_type": "code",
   "outputs": [],
   "source": [
    "df.drop([\"index\",\"instrument\"],axis=1,inplace=True)"
   ],
   "metadata": {
    "collapsed": false,
    "ExecuteTime": {
     "end_time": "2024-02-23T05:49:38.084793Z",
     "start_time": "2024-02-23T05:49:37.997679Z"
    }
   },
   "id": "55cad405a31a5867",
   "execution_count": 115
  },
  {
   "cell_type": "code",
   "outputs": [
    {
     "data": {
      "text/plain": "['latitude',\n 'longitude',\n 'brightness',\n 'scan',\n 'track',\n 'acq_time',\n 'satellite_0',\n 'confidence',\n 'version',\n 'bright_t31',\n 'frp',\n 'daynight_0']"
     },
     "execution_count": 81,
     "metadata": {},
     "output_type": "execute_result"
    }
   ],
   "source": [
    "feature_cols =  [x for x in df.columns if x not in ['type','acq_date']]\n",
    "feature_cols"
   ],
   "metadata": {
    "collapsed": false,
    "ExecuteTime": {
     "end_time": "2024-02-23T05:20:27.663990Z",
     "start_time": "2024-02-23T05:20:27.594722Z"
    }
   },
   "id": "b5fbb77fcbf2d9ca",
   "execution_count": 81
  },
  {
   "cell_type": "code",
   "execution_count": 116,
   "id": "0a268073",
   "metadata": {
    "execution": {
     "iopub.execute_input": "2022-11-05T20:18:09.022709Z",
     "iopub.status.busy": "2022-11-05T20:18:09.022332Z",
     "iopub.status.idle": "2022-11-05T20:18:09.047575Z",
     "shell.execute_reply": "2022-11-05T20:18:09.046597Z"
    },
    "papermill": {
     "duration": 0.041726,
     "end_time": "2022-11-05T20:18:09.050226",
     "exception": false,
     "start_time": "2022-11-05T20:18:09.008500",
     "status": "completed"
    },
    "tags": [],
    "ExecuteTime": {
     "end_time": "2024-02-23T05:50:00.687304Z",
     "start_time": "2024-02-23T05:49:57.547095Z"
    }
   },
   "outputs": [],
   "source": [
    "from sklearn.model_selection import StratifiedShuffleSplit\n",
    "target=['type']\n",
    "\n",
    "feature_cols = [x for x in df.columns if x not in target]\n",
    "\n",
    "strat_shuff_split = StratifiedShuffleSplit(n_splits=1, test_size=0.2, random_state=42)\n",
    "\n",
    "# Get the index values from the generator\n",
    "train_idx, test_idx = next(strat_shuff_split.split(df[feature_cols], df[target]))\n",
    "\n",
    "# Create the data sets\n",
    "X_train = df.loc[train_idx, feature_cols]\n",
    "y_train = df.loc[train_idx, target]\n",
    "X_test = df.loc[test_idx, feature_cols]\n",
    "y_test = df.loc[test_idx, target]"
   ]
  },
  {
   "cell_type": "markdown",
   "id": "2b53538c",
   "metadata": {
    "papermill": {
     "duration": 0.011992,
     "end_time": "2022-11-05T20:18:09.074749",
     "exception": false,
     "start_time": "2022-11-05T20:18:09.062757",
     "status": "completed"
    },
    "tags": []
   },
   "source": [
    "- Now that we have split the model, we will start with the feature selection"
   ]
  },
  {
   "cell_type": "code",
   "execution_count": 117,
   "id": "3d884765",
   "metadata": {
    "execution": {
     "iopub.execute_input": "2022-11-05T20:18:09.100555Z",
     "iopub.status.busy": "2022-11-05T20:18:09.100173Z",
     "iopub.status.idle": "2022-11-05T20:18:10.166941Z",
     "shell.execute_reply": "2022-11-05T20:18:10.165792Z"
    },
    "papermill": {
     "duration": 1.081858,
     "end_time": "2022-11-05T20:18:10.168787",
     "exception": false,
     "start_time": "2022-11-05T20:18:09.086929",
     "status": "completed"
    },
    "tags": [],
    "ExecuteTime": {
     "end_time": "2024-02-23T05:50:06.782454Z",
     "start_time": "2024-02-23T05:50:05.004114Z"
    }
   },
   "outputs": [
    {
     "data": {
      "text/plain": "<Axes: >"
     },
     "execution_count": 117,
     "metadata": {},
     "output_type": "execute_result"
    },
    {
     "data": {
      "text/plain": "<Figure size 1600x1000 with 2 Axes>",
      "image/png": "[encoded data removed]"
     },
     "metadata": {},
     "output_type": "display_data"
    }
   ],
   "source": [
    "import seaborn as sns\n",
    "import matplotlib.pyplot as plt\n",
    "plt.figure(figsize=(16,10))\n",
    "cor=X_train.corr(numeric_only=True)\n",
    "sns.heatmap(cor,annot=True,cmap=plt.cm.CMRmap_r)"
   ]
  },
  {
   "cell_type": "markdown",
   "id": "30198d16",
   "metadata": {
    "papermill": {
     "duration": 0.013116,
     "end_time": "2022-11-05T20:18:10.195625",
     "exception": false,
     "start_time": "2022-11-05T20:18:10.182509",
     "status": "completed"
    },
    "tags": []
   },
   "source": [
    "> We will define a function to identify the highly correlated features to remove them"
   ]
  },
  {
   "cell_type": "code",
   "outputs": [
    {
     "data": {
      "text/plain": "        latitude  longitude  brightness  scan  track      acq_date  acq_time  \\\n0        31.4814    75.7365       301.5   1.4    1.2  1.483229e+09         5   \n1        28.7628    79.5194       311.3   1.0    1.0  1.483229e+09         5   \n2        28.0761    79.8547       304.2   1.0    1.0  1.483229e+09         5   \n3        28.5888    78.7448       305.0   1.0    1.0  1.483229e+09         5   \n4        29.4661    77.1339       303.3   1.1    1.1  1.483229e+09         5   \n...          ...        ...         ...   ...    ...           ...       ...   \n517572   29.9033    74.9521       303.3   2.7    1.6  1.672445e+09        17   \n517573   29.9086    74.9460       323.9   2.7    1.6  1.672445e+09        17   \n517574   29.9170    74.9576       323.5   1.9    1.3  1.672445e+09        21   \n517575   21.1048    72.6415       302.9   2.0    1.4  1.672445e+09        21   \n517576   21.1137    72.6380       302.7   2.0    1.4  1.672445e+09        21   \n\n        satellite_0  confidence  version  bright_t31    frp  daynight_0  type  \n0                 0          48     6.20       291.1    5.4           0     0  \n1                 0          71     6.20       292.8    8.6           0     0  \n2                 0          58     6.20       290.6    5.0           0     0  \n3                 0          60     6.20       293.5    4.3           0     0  \n4                 0          56     6.20       291.6    5.6           0     0  \n...             ...         ...      ...         ...    ...         ...   ...  \n517572            0          55     6.03       281.3   37.2           1     0  \n517573            0         100     6.03       282.0  106.5           1     0  \n517574            1         100     6.03       274.6   66.9           1     0  \n517575            1          52     6.03       289.9   18.5           1     2  \n517576            1          51     6.03       290.1   18.3           1     2  \n\n[517577 rows x 14 columns]",
      "text/html": "<div>\n<style scoped>\n    .dataframe tbody tr th:only-of-type {\n        vertical-align: middle;\n    }\n\n    .dataframe tbody tr th {\n        vertical-align: top;\n    }\n\n    .dataframe thead th {\n        text-align: right;\n    }\n</style>\n<table border=\"1\" class=\"dataframe\">\n  <thead>\n    <tr style=\"text-align: right;\">\n      <th></th>\n      <th>latitude</th>\n      <th>longitude</th>\n      <th>brightness</th>\n      <th>scan</th>\n      <th>track</th>\n      <th>acq_date</th>\n      <th>acq_time</th>\n      <th>satellite_0</th>\n      <th>confidence</th>\n      <th>version</th>\n      <th>bright_t31</th>\n      <th>frp</th>\n      <th>daynight_0</th>\n      <th>type</th>\n    </tr>\n  </thead>\n  <tbody>\n    <tr>\n      <th>0</th>\n      <td>31.4814</td>\n      <td>75.7365</td>\n      <td>301.5</td>\n      <td>1.4</td>\n      <td>1.2</td>\n      <td>1.483229e+09</td>\n      <td>5</td>\n      <td>0</td>\n      <td>48</td>\n      <td>6.20</td>\n      <td>291.1</td>\n      <td>5.4</td>\n      <td>0</td>\n      <td>0</td>\n    </tr>\n    <tr>\n      <th>1</th>\n      <td>28.7628</td>\n      <td>79.5194</td>\n      <td>311.3</td>\n      <td>1.0</td>\n      <td>1.0</td>\n      <td>1.483229e+09</td>\n      <td>5</td>\n      <td>0</td>\n      <td>71</td>\n      <td>6.20</td>\n      <td>292.8</td>\n      <td>8.6</td>\n      <td>0</td>\n      <td>0</td>\n    </tr>\n    <tr>\n      <th>2</th>\n      <td>28.0761</td>\n      <td>79.8547</td>\n      <td>304.2</td>\n      <td>1.0</td>\n      <td>1.0</td>\n      <td>1.483229e+09</td>\n      <td>5</td>\n      <td>0</td>\n      <td>58</td>\n      <td>6.20</td>\n      <td>290.6</td>\n      <td>5.0</td>\n      <td>0</td>\n      <td>0</td>\n    </tr>\n    <tr>\n      <th>3</th>\n      <td>28.5888</td>\n      <td>78.7448</td>\n      <td>305.0</td>\n      <td>1.0</td>\n      <td>1.0</td>\n      <td>1.483229e+09</td>\n      <td>5</td>\n      <td>0</td>\n      <td>60</td>\n      <td>6.20</td>\n      <td>293.5</td>\n      <td>4.3</td>\n      <td>0</td>\n      <td>0</td>\n    </tr>\n    <tr>\n      <th>4</th>\n      <td>29.4661</td>\n      <td>77.1339</td>\n      <td>303.3</td>\n      <td>1.1</td>\n      <td>1.1</td>\n      <td>1.483229e+09</td>\n      <td>5</td>\n      <td>0</td>\n      <td>56</td>\n      <td>6.20</td>\n      <td>291.6</td>\n      <td>5.6</td>\n      <td>0</td>\n      <td>0</td>\n    </tr>\n    <tr>\n      <th>...</th>\n      <td>...</td>\n      <td>...</td>\n      <td>...</td>\n      <td>...</td>\n      <td>...</td>\n      <td>...</td>\n      <td>...</td>\n      <td>...</td>\n      <td>...</td>\n      <td>...</td>\n      <td>...</td>\n      <td>...</td>\n      <td>...</td>\n      <td>...</td>\n    </tr>\n    <tr>\n      <th>517572</th>\n      <td>29.9033</td>\n      <td>74.9521</td>\n      <td>303.3</td>\n      <td>2.7</td>\n      <td>1.6</td>\n      <td>1.672445e+09</td>\n      <td>17</td>\n      <td>0</td>\n      <td>55</td>\n      <td>6.03</td>\n      <td>281.3</td>\n      <td>37.2</td>\n      <td>1</td>\n      <td>0</td>\n    </tr>\n    <tr>\n      <th>517573</th>\n      <td>29.9086</td>\n      <td>74.9460</td>\n      <td>323.9</td>\n      <td>2.7</td>\n      <td>1.6</td>\n      <td>1.672445e+09</td>\n      <td>17</td>\n      <td>0</td>\n      <td>100</td>\n      <td>6.03</td>\n      <td>282.0</td>\n      <td>106.5</td>\n      <td>1</td>\n      <td>0</td>\n    </tr>\n    <tr>\n      <th>517574</th>\n      <td>29.9170</td>\n      <td>74.9576</td>\n      <td>323.5</td>\n      <td>1.9</td>\n      <td>1.3</td>\n      <td>1.672445e+09</td>\n      <td>21</td>\n      <td>1</td>\n      <td>100</td>\n      <td>6.03</td>\n      <td>274.6</td>\n      <td>66.9</td>\n      <td>1</td>\n      <td>0</td>\n    </tr>\n    <tr>\n      <th>517575</th>\n      <td>21.1048</td>\n      <td>72.6415</td>\n      <td>302.9</td>\n      <td>2.0</td>\n      <td>1.4</td>\n      <td>1.672445e+09</td>\n      <td>21</td>\n      <td>1</td>\n      <td>52</td>\n      <td>6.03</td>\n      <td>289.9</td>\n      <td>18.5</td>\n      <td>1</td>\n      <td>2</td>\n    </tr>\n    <tr>\n      <th>517576</th>\n      <td>21.1137</td>\n      <td>72.6380</td>\n      <td>302.7</td>\n      <td>2.0</td>\n      <td>1.4</td>\n      <td>1.672445e+09</td>\n      <td>21</td>\n      <td>1</td>\n      <td>51</td>\n      <td>6.03</td>\n      <td>290.1</td>\n      <td>18.3</td>\n      <td>1</td>\n      <td>2</td>\n    </tr>\n  </tbody>\n</table>\n<p>517577 rows × 14 columns</p>\n</div>"
     },
     "execution_count": 118,
     "metadata": {},
     "output_type": "execute_result"
    }
   ],
   "source": [
    "df"
   ],
   "metadata": {
    "collapsed": false,
    "ExecuteTime": {
     "end_time": "2024-02-23T05:50:17.704959Z",
     "start_time": "2024-02-23T05:50:17.642279Z"
    }
   },
   "id": "9944df76002ab708",
   "execution_count": 118
  },
  {
   "cell_type": "code",
   "execution_count": 119,
   "id": "ba3fab01",
   "metadata": {
    "execution": {
     "iopub.execute_input": "2022-11-05T20:18:10.224209Z",
     "iopub.status.busy": "2022-11-05T20:18:10.223540Z",
     "iopub.status.idle": "2022-11-05T20:18:10.229824Z",
     "shell.execute_reply": "2022-11-05T20:18:10.228433Z"
    },
    "papermill": {
     "duration": 0.022962,
     "end_time": "2022-11-05T20:18:10.231902",
     "exception": false,
     "start_time": "2022-11-05T20:18:10.208940",
     "status": "completed"
    },
    "tags": [],
    "ExecuteTime": {
     "end_time": "2024-02-23T05:50:22.067556Z",
     "start_time": "2024-02-23T05:50:22.027443Z"
    }
   },
   "outputs": [],
   "source": [
    "def correlation(dataset, threshold):\n",
    "     col_corr = set() # Set of all the names of correlated columns\n",
    "     corr_matrix = dataset.corr(numeric_only=True)\n",
    "     for i in range(len(corr_matrix.columns)):\n",
    "         for j in range(i):\n",
    "             if (corr_matrix.iloc[i,j])>threshold: # we are interested in absolute coeff value\n",
    "                 colname= corr_matrix.columns[i] # getting the name of column\n",
    "                 col_corr.add(colname) \n",
    "     return col_corr\n"
   ]
  },
  {
   "cell_type": "code",
   "execution_count": 120,
   "id": "1bbf1cd1",
   "metadata": {
    "execution": {
     "iopub.execute_input": "2022-11-05T20:18:10.260901Z",
     "iopub.status.busy": "2022-11-05T20:18:10.259982Z",
     "iopub.status.idle": "2022-11-05T20:18:10.274468Z",
     "shell.execute_reply": "2022-11-05T20:18:10.272781Z"
    },
    "papermill": {
     "duration": 0.031542,
     "end_time": "2022-11-05T20:18:10.277059",
     "exception": false,
     "start_time": "2022-11-05T20:18:10.245517",
     "status": "completed"
    },
    "tags": [],
    "ExecuteTime": {
     "end_time": "2024-02-23T05:50:23.725152Z",
     "start_time": "2024-02-23T05:50:23.457052Z"
    }
   },
   "outputs": [
    {
     "name": "stdout",
     "output_type": "stream",
     "text": [
      "{'track', 'daynight_0'}\n"
     ]
    }
   ],
   "source": [
    "features= correlation(X_train,0.9)\n",
    "print(set(features))"
   ]
  },
  {
   "cell_type": "markdown",
   "id": "b326f900",
   "metadata": {
    "papermill": {
     "duration": 0.013224,
     "end_time": "2022-11-05T20:18:10.304184",
     "exception": false,
     "start_time": "2022-11-05T20:18:10.290960",
     "status": "completed"
    },
    "tags": []
   },
   "source": [
    "> We can now drop the features `track` and `daynight_0` "
   ]
  },
  {
   "cell_type": "code",
   "execution_count": 121,
   "id": "3a4fec8b",
   "metadata": {
    "execution": {
     "iopub.execute_input": "2022-11-05T20:18:10.333683Z",
     "iopub.status.busy": "2022-11-05T20:18:10.331872Z",
     "iopub.status.idle": "2022-11-05T20:18:10.338837Z",
     "shell.execute_reply": "2022-11-05T20:18:10.337702Z"
    },
    "papermill": {
     "duration": 0.023609,
     "end_time": "2022-11-05T20:18:10.341116",
     "exception": false,
     "start_time": "2022-11-05T20:18:10.317507",
     "status": "completed"
    },
    "tags": [],
    "ExecuteTime": {
     "end_time": "2024-02-23T05:50:28.498899Z",
     "start_time": "2024-02-23T05:50:28.464491Z"
    }
   },
   "outputs": [],
   "source": [
    "X_train=X_train.drop(['track','daynight_0'],axis=1)"
   ]
  },
  {
   "cell_type": "markdown",
   "id": "dc96d706",
   "metadata": {
    "papermill": {
     "duration": 0.013256,
     "end_time": "2022-11-05T20:18:10.368984",
     "exception": false,
     "start_time": "2022-11-05T20:18:10.355728",
     "status": "completed"
    },
    "tags": []
   },
   "source": [
    "### Applying the same to test data"
   ]
  },
  {
   "cell_type": "code",
   "execution_count": 124,
   "id": "97d4fe37",
   "metadata": {
    "execution": {
     "iopub.execute_input": "2022-11-05T20:18:10.398501Z",
     "iopub.status.busy": "2022-11-05T20:18:10.397867Z",
     "iopub.status.idle": "2022-11-05T20:18:10.403166Z",
     "shell.execute_reply": "2022-11-05T20:18:10.402538Z"
    },
    "papermill": {
     "duration": 0.022439,
     "end_time": "2022-11-05T20:18:10.405098",
     "exception": false,
     "start_time": "2022-11-05T20:18:10.382659",
     "status": "completed"
    },
    "tags": [],
    "ExecuteTime": {
     "end_time": "2024-02-23T06:44:02.734670Z",
     "start_time": "2024-02-23T06:44:02.692148Z"
    }
   },
   "outputs": [],
   "source": [
    "X_test=X_test.drop(['track','daynight_0'],axis=1)"
   ]
  },
  {
   "cell_type": "markdown",
   "id": "39846989",
   "metadata": {
    "papermill": {
     "duration": 0.013269,
     "end_time": "2022-11-05T20:18:10.432099",
     "exception": false,
     "start_time": "2022-11-05T20:18:10.418830",
     "status": "completed"
    },
    "tags": []
   },
   "source": [
    "## Applying Machine Learning Models\n",
    "- We will be applying 3 models and comparing it with each other: \n",
    " - Logistic Regression \n",
    " - K Nearest Neighbours \n",
    " - XG Boost"
   ]
  },
  {
   "cell_type": "markdown",
   "id": "3947eb82",
   "metadata": {
    "papermill": {
     "duration": 0.013453,
     "end_time": "2022-11-05T20:18:10.459026",
     "exception": false,
     "start_time": "2022-11-05T20:18:10.445573",
     "status": "completed"
    },
    "tags": []
   },
   "source": [
    "### Logistic Regression"
   ]
  },
  {
   "cell_type": "markdown",
   "id": "2060aed4",
   "metadata": {
    "papermill": {
     "duration": 0.013773,
     "end_time": "2022-11-05T20:18:10.487665",
     "exception": false,
     "start_time": "2022-11-05T20:18:10.473892",
     "status": "completed"
    },
    "tags": []
   },
   "source": [
    "We are keeping an `l2 regularization` since it has comparatively lesser computational complexity "
   ]
  },
  {
   "cell_type": "code",
   "outputs": [
    {
     "data": {
      "text/plain": "['latitude',\n 'longitude',\n 'brightness',\n 'scan',\n 'acq_date',\n 'acq_time',\n 'satellite_0',\n 'confidence',\n 'version',\n 'bright_t31',\n 'frp']"
     },
     "execution_count": 89,
     "metadata": {},
     "output_type": "execute_result"
    }
   ],
   "source": [
    "X_train.columns.to_list()"
   ],
   "metadata": {
    "collapsed": false,
    "ExecuteTime": {
     "end_time": "2024-02-23T05:20:29.833450Z",
     "start_time": "2024-02-23T05:20:29.688486Z"
    }
   },
   "id": "3376d5bc113fe4d3",
   "execution_count": 89
  },
  {
   "cell_type": "code",
   "outputs": [
    {
     "name": "stdout",
     "output_type": "stream",
     "text": [
      "Scikit-learn was successfully globally patched by Intel(R) Extension for Scikit-learn\n"
     ]
    },
    {
     "name": "stderr",
     "output_type": "stream",
     "text": [
      "Intel(R) Extension for Scikit-learn* enabled (https://github.com/intel/scikit-learn-intelex)\n",
      "/Users/kausik/.local/share/virtualenvs/Forest_Fire_Prediction-Mr6mG4gB/lib/python3.10/site-packages/sklearn/utils/validation.py:1300: DataConversionWarning: A column-vector y was passed when a 1d array was expected. Please change the shape of y to (n_samples, ), for example using ravel().\n",
      "  y = column_or_1d(y, warn=True)\n",
      "/Users/kausik/.local/share/virtualenvs/Forest_Fire_Prediction-Mr6mG4gB/lib/python3.10/site-packages/sklearn/utils/validation.py:1300: DataConversionWarning: A column-vector y was passed when a 1d array was expected. Please change the shape of y to (n_samples, ), for example using ravel().\n",
      "  y = column_or_1d(y, warn=True)\n",
      "/Users/kausik/.local/share/virtualenvs/Forest_Fire_Prediction-Mr6mG4gB/lib/python3.10/site-packages/sklearn/linear_model/_logistic.py:1216: UserWarning: 'n_jobs' > 1 does not have any effect when 'solver' is set to 'liblinear'. Got 'n_jobs' = 12.\n",
      "  warnings.warn(\n",
      "/Users/kausik/.local/share/virtualenvs/Forest_Fire_Prediction-Mr6mG4gB/lib/python3.10/site-packages/sklearn/linear_model/_logistic.py:1216: UserWarning: 'n_jobs' > 1 does not have any effect when 'solver' is set to 'liblinear'. Got 'n_jobs' = 12.\n",
      "  warnings.warn(\n",
      "/Users/kausik/.local/share/virtualenvs/Forest_Fire_Prediction-Mr6mG4gB/lib/python3.10/site-packages/sklearn/utils/validation.py:1300: DataConversionWarning: A column-vector y was passed when a 1d array was expected. Please change the shape of y to (n_samples, ), for example using ravel().\n",
      "  y = column_or_1d(y, warn=True)\n",
      "/Users/kausik/.local/share/virtualenvs/Forest_Fire_Prediction-Mr6mG4gB/lib/python3.10/site-packages/sklearn/utils/validation.py:1300: DataConversionWarning: A column-vector y was passed when a 1d array was expected. Please change the shape of y to (n_samples, ), for example using ravel().\n",
      "  y = column_or_1d(y, warn=True)\n",
      "/Users/kausik/.local/share/virtualenvs/Forest_Fire_Prediction-Mr6mG4gB/lib/python3.10/site-packages/sklearn/linear_model/_logistic.py:1216: UserWarning: 'n_jobs' > 1 does not have any effect when 'solver' is set to 'liblinear'. Got 'n_jobs' = 12.\n",
      "  warnings.warn(\n",
      "/Users/kausik/.local/share/virtualenvs/Forest_Fire_Prediction-Mr6mG4gB/lib/python3.10/site-packages/sklearn/linear_model/_logistic.py:1216: UserWarning: 'n_jobs' > 1 does not have any effect when 'solver' is set to 'liblinear'. Got 'n_jobs' = 12.\n",
      "  warnings.warn(\n",
      "/Users/kausik/.local/share/virtualenvs/Forest_Fire_Prediction-Mr6mG4gB/lib/python3.10/site-packages/sklearn/utils/validation.py:1300: DataConversionWarning: A column-vector y was passed when a 1d array was expected. Please change the shape of y to (n_samples, ), for example using ravel().\n",
      "  y = column_or_1d(y, warn=True)\n",
      "/Users/kausik/.local/share/virtualenvs/Forest_Fire_Prediction-Mr6mG4gB/lib/python3.10/site-packages/sklearn/linear_model/_logistic.py:1216: UserWarning: 'n_jobs' > 1 does not have any effect when 'solver' is set to 'liblinear'. Got 'n_jobs' = 12.\n",
      "  warnings.warn(\n",
      "Intel(R) Extension for Scikit-learn* enabled (https://github.com/intel/scikit-learn-intelex)\n",
      "Intel(R) Extension for Scikit-learn* enabled (https://github.com/intel/scikit-learn-intelex)\n",
      "Intel(R) Extension for Scikit-learn* enabled (https://github.com/intel/scikit-learn-intelex)\n",
      "Intel(R) Extension for Scikit-learn* enabled (https://github.com/intel/scikit-learn-intelex)\n",
      "Intel(R) Extension for Scikit-learn* enabled (https://github.com/intel/scikit-learn-intelex)\n",
      "Intel(R) Extension for Scikit-learn* enabled (https://github.com/intel/scikit-learn-intelex)\n",
      "Intel(R) Extension for Scikit-learn* enabled (https://github.com/intel/scikit-learn-intelex)\n",
      "Intel(R) Extension for Scikit-learn* enabled (https://github.com/intel/scikit-learn-intelex)\n",
      "/Users/kausik/.local/share/virtualenvs/Forest_Fire_Prediction-Mr6mG4gB/lib/python3.10/site-packages/sklearn/utils/validation.py:1300: DataConversionWarning: A column-vector y was passed when a 1d array was expected. Please change the shape of y to (n_samples, ), for example using ravel().\n",
      "  y = column_or_1d(y, warn=True)\n",
      "/Users/kausik/.local/share/virtualenvs/Forest_Fire_Prediction-Mr6mG4gB/lib/python3.10/site-packages/sklearn/linear_model/_logistic.py:1216: UserWarning: 'n_jobs' > 1 does not have any effect when 'solver' is set to 'liblinear'. Got 'n_jobs' = 12.\n",
      "  warnings.warn(\n",
      "/Users/kausik/.local/share/virtualenvs/Forest_Fire_Prediction-Mr6mG4gB/lib/python3.10/site-packages/sklearn/utils/validation.py:1300: DataConversionWarning: A column-vector y was passed when a 1d array was expected. Please change the shape of y to (n_samples, ), for example using ravel().\n",
      "  y = column_or_1d(y, warn=True)\n",
      "/Users/kausik/.local/share/virtualenvs/Forest_Fire_Prediction-Mr6mG4gB/lib/python3.10/site-packages/sklearn/utils/validation.py:1300: DataConversionWarning: A column-vector y was passed when a 1d array was expected. Please change the shape of y to (n_samples, ), for example using ravel().\n",
      "  y = column_or_1d(y, warn=True)\n",
      "/Users/kausik/.local/share/virtualenvs/Forest_Fire_Prediction-Mr6mG4gB/lib/python3.10/site-packages/sklearn/utils/validation.py:1300: DataConversionWarning: A column-vector y was passed when a 1d array was expected. Please change the shape of y to (n_samples, ), for example using ravel().\n",
      "  y = column_or_1d(y, warn=True)\n",
      "/Users/kausik/.local/share/virtualenvs/Forest_Fire_Prediction-Mr6mG4gB/lib/python3.10/site-packages/sklearn/utils/validation.py:1300: DataConversionWarning: A column-vector y was passed when a 1d array was expected. Please change the shape of y to (n_samples, ), for example using ravel().\n",
      "  y = column_or_1d(y, warn=True)\n",
      "/Users/kausik/.local/share/virtualenvs/Forest_Fire_Prediction-Mr6mG4gB/lib/python3.10/site-packages/sklearn/utils/validation.py:1300: DataConversionWarning: A column-vector y was passed when a 1d array was expected. Please change the shape of y to (n_samples, ), for example using ravel().\n",
      "  y = column_or_1d(y, warn=True)\n",
      "/Users/kausik/.local/share/virtualenvs/Forest_Fire_Prediction-Mr6mG4gB/lib/python3.10/site-packages/sklearn/utils/validation.py:1300: DataConversionWarning: A column-vector y was passed when a 1d array was expected. Please change the shape of y to (n_samples, ), for example using ravel().\n",
      "  y = column_or_1d(y, warn=True)\n",
      "/Users/kausik/.local/share/virtualenvs/Forest_Fire_Prediction-Mr6mG4gB/lib/python3.10/site-packages/sklearn/utils/validation.py:1300: DataConversionWarning: A column-vector y was passed when a 1d array was expected. Please change the shape of y to (n_samples, ), for example using ravel().\n",
      "  y = column_or_1d(y, warn=True)\n",
      "/Users/kausik/.local/share/virtualenvs/Forest_Fire_Prediction-Mr6mG4gB/lib/python3.10/site-packages/sklearn/linear_model/_logistic.py:1216: UserWarning: 'n_jobs' > 1 does not have any effect when 'solver' is set to 'liblinear'. Got 'n_jobs' = 12.\n",
      "  warnings.warn(\n",
      "/Users/kausik/.local/share/virtualenvs/Forest_Fire_Prediction-Mr6mG4gB/lib/python3.10/site-packages/sklearn/linear_model/_logistic.py:1216: UserWarning: 'n_jobs' > 1 does not have any effect when 'solver' is set to 'liblinear'. Got 'n_jobs' = 12.\n",
      "  warnings.warn(\n",
      "/Users/kausik/.local/share/virtualenvs/Forest_Fire_Prediction-Mr6mG4gB/lib/python3.10/site-packages/sklearn/utils/validation.py:1300: DataConversionWarning: A column-vector y was passed when a 1d array was expected. Please change the shape of y to (n_samples, ), for example using ravel().\n",
      "  y = column_or_1d(y, warn=True)\n",
      "/Users/kausik/.local/share/virtualenvs/Forest_Fire_Prediction-Mr6mG4gB/lib/python3.10/site-packages/sklearn/linear_model/_logistic.py:1216: UserWarning: 'n_jobs' > 1 does not have any effect when 'solver' is set to 'liblinear'. Got 'n_jobs' = 12.\n",
      "  warnings.warn(\n",
      "/Users/kausik/.local/share/virtualenvs/Forest_Fire_Prediction-Mr6mG4gB/lib/python3.10/site-packages/sklearn/utils/validation.py:1300: DataConversionWarning: A column-vector y was passed when a 1d array was expected. Please change the shape of y to (n_samples, ), for example using ravel().\n",
      "  y = column_or_1d(y, warn=True)\n",
      "/Users/kausik/.local/share/virtualenvs/Forest_Fire_Prediction-Mr6mG4gB/lib/python3.10/site-packages/sklearn/linear_model/_logistic.py:1216: UserWarning: 'n_jobs' > 1 does not have any effect when 'solver' is set to 'liblinear'. Got 'n_jobs' = 12.\n",
      "  warnings.warn(\n",
      "/Users/kausik/.local/share/virtualenvs/Forest_Fire_Prediction-Mr6mG4gB/lib/python3.10/site-packages/sklearn/utils/validation.py:1300: DataConversionWarning: A column-vector y was passed when a 1d array was expected. Please change the shape of y to (n_samples, ), for example using ravel().\n",
      "  y = column_or_1d(y, warn=True)\n",
      "/Users/kausik/.local/share/virtualenvs/Forest_Fire_Prediction-Mr6mG4gB/lib/python3.10/site-packages/sklearn/utils/validation.py:1300: DataConversionWarning: A column-vector y was passed when a 1d array was expected. Please change the shape of y to (n_samples, ), for example using ravel().\n",
      "  y = column_or_1d(y, warn=True)\n",
      "/Users/kausik/.local/share/virtualenvs/Forest_Fire_Prediction-Mr6mG4gB/lib/python3.10/site-packages/sklearn/utils/validation.py:1300: DataConversionWarning: A column-vector y was passed when a 1d array was expected. Please change the shape of y to (n_samples, ), for example using ravel().\n",
      "  y = column_or_1d(y, warn=True)\n",
      "/Users/kausik/.local/share/virtualenvs/Forest_Fire_Prediction-Mr6mG4gB/lib/python3.10/site-packages/sklearn/utils/validation.py:1300: DataConversionWarning: A column-vector y was passed when a 1d array was expected. Please change the shape of y to (n_samples, ), for example using ravel().\n",
      "  y = column_or_1d(y, warn=True)\n",
      "/Users/kausik/.local/share/virtualenvs/Forest_Fire_Prediction-Mr6mG4gB/lib/python3.10/site-packages/sklearn/utils/validation.py:1300: DataConversionWarning: A column-vector y was passed when a 1d array was expected. Please change the shape of y to (n_samples, ), for example using ravel().\n",
      "  y = column_or_1d(y, warn=True)\n",
      "/Users/kausik/.local/share/virtualenvs/Forest_Fire_Prediction-Mr6mG4gB/lib/python3.10/site-packages/sklearn/utils/validation.py:1300: DataConversionWarning: A column-vector y was passed when a 1d array was expected. Please change the shape of y to (n_samples, ), for example using ravel().\n",
      "  y = column_or_1d(y, warn=True)\n",
      "/Users/kausik/.local/share/virtualenvs/Forest_Fire_Prediction-Mr6mG4gB/lib/python3.10/site-packages/sklearn/linear_model/_logistic.py:1216: UserWarning: 'n_jobs' > 1 does not have any effect when 'solver' is set to 'liblinear'. Got 'n_jobs' = 12.\n",
      "  warnings.warn(\n",
      "/Users/kausik/.local/share/virtualenvs/Forest_Fire_Prediction-Mr6mG4gB/lib/python3.10/site-packages/sklearn/utils/validation.py:1300: DataConversionWarning: A column-vector y was passed when a 1d array was expected. Please change the shape of y to (n_samples, ), for example using ravel().\n",
      "  y = column_or_1d(y, warn=True)\n",
      "/Users/kausik/.local/share/virtualenvs/Forest_Fire_Prediction-Mr6mG4gB/lib/python3.10/site-packages/sklearn/linear_model/_logistic.py:1216: UserWarning: 'n_jobs' > 1 does not have any effect when 'solver' is set to 'liblinear'. Got 'n_jobs' = 12.\n",
      "  warnings.warn(\n",
      "/Users/kausik/.local/share/virtualenvs/Forest_Fire_Prediction-Mr6mG4gB/lib/python3.10/site-packages/sklearn/utils/validation.py:1300: DataConversionWarning: A column-vector y was passed when a 1d array was expected. Please change the shape of y to (n_samples, ), for example using ravel().\n",
      "  y = column_or_1d(y, warn=True)\n",
      "/Users/kausik/.local/share/virtualenvs/Forest_Fire_Prediction-Mr6mG4gB/lib/python3.10/site-packages/sklearn/linear_model/_logistic.py:1216: UserWarning: 'n_jobs' > 1 does not have any effect when 'solver' is set to 'liblinear'. Got 'n_jobs' = 12.\n",
      "  warnings.warn(\n",
      "/Users/kausik/.local/share/virtualenvs/Forest_Fire_Prediction-Mr6mG4gB/lib/python3.10/site-packages/sklearn/utils/validation.py:1300: DataConversionWarning: A column-vector y was passed when a 1d array was expected. Please change the shape of y to (n_samples, ), for example using ravel().\n",
      "  y = column_or_1d(y, warn=True)\n",
      "/Users/kausik/.local/share/virtualenvs/Forest_Fire_Prediction-Mr6mG4gB/lib/python3.10/site-packages/sklearn/linear_model/_logistic.py:1216: UserWarning: 'n_jobs' > 1 does not have any effect when 'solver' is set to 'liblinear'. Got 'n_jobs' = 12.\n",
      "  warnings.warn(\n",
      "/Users/kausik/.local/share/virtualenvs/Forest_Fire_Prediction-Mr6mG4gB/lib/python3.10/site-packages/sklearn/utils/validation.py:1300: DataConversionWarning: A column-vector y was passed when a 1d array was expected. Please change the shape of y to (n_samples, ), for example using ravel().\n",
      "  y = column_or_1d(y, warn=True)\n",
      "/Users/kausik/.local/share/virtualenvs/Forest_Fire_Prediction-Mr6mG4gB/lib/python3.10/site-packages/sklearn/linear_model/_logistic.py:1216: UserWarning: 'n_jobs' > 1 does not have any effect when 'solver' is set to 'liblinear'. Got 'n_jobs' = 12.\n",
      "  warnings.warn(\n",
      "/Users/kausik/.local/share/virtualenvs/Forest_Fire_Prediction-Mr6mG4gB/lib/python3.10/site-packages/sklearn/utils/validation.py:1300: DataConversionWarning: A column-vector y was passed when a 1d array was expected. Please change the shape of y to (n_samples, ), for example using ravel().\n",
      "  y = column_or_1d(y, warn=True)\n",
      "/Users/kausik/.local/share/virtualenvs/Forest_Fire_Prediction-Mr6mG4gB/lib/python3.10/site-packages/sklearn/utils/validation.py:1300: DataConversionWarning: A column-vector y was passed when a 1d array was expected. Please change the shape of y to (n_samples, ), for example using ravel().\n",
      "  y = column_or_1d(y, warn=True)\n",
      "/Users/kausik/.local/share/virtualenvs/Forest_Fire_Prediction-Mr6mG4gB/lib/python3.10/site-packages/sklearn/utils/validation.py:1300: DataConversionWarning: A column-vector y was passed when a 1d array was expected. Please change the shape of y to (n_samples, ), for example using ravel().\n",
      "  y = column_or_1d(y, warn=True)\n",
      "/Users/kausik/.local/share/virtualenvs/Forest_Fire_Prediction-Mr6mG4gB/lib/python3.10/site-packages/sklearn/utils/validation.py:1300: DataConversionWarning: A column-vector y was passed when a 1d array was expected. Please change the shape of y to (n_samples, ), for example using ravel().\n",
      "  y = column_or_1d(y, warn=True)\n",
      "/Users/kausik/.local/share/virtualenvs/Forest_Fire_Prediction-Mr6mG4gB/lib/python3.10/site-packages/sklearn/utils/validation.py:1300: DataConversionWarning: A column-vector y was passed when a 1d array was expected. Please change the shape of y to (n_samples, ), for example using ravel().\n",
      "  y = column_or_1d(y, warn=True)\n",
      "/Users/kausik/.local/share/virtualenvs/Forest_Fire_Prediction-Mr6mG4gB/lib/python3.10/site-packages/sklearn/utils/validation.py:1300: DataConversionWarning: A column-vector y was passed when a 1d array was expected. Please change the shape of y to (n_samples, ), for example using ravel().\n",
      "  y = column_or_1d(y, warn=True)\n",
      "/Users/kausik/.local/share/virtualenvs/Forest_Fire_Prediction-Mr6mG4gB/lib/python3.10/site-packages/sklearn/linear_model/_logistic.py:1216: UserWarning: 'n_jobs' > 1 does not have any effect when 'solver' is set to 'liblinear'. Got 'n_jobs' = 12.\n",
      "  warnings.warn(\n",
      "/Users/kausik/.local/share/virtualenvs/Forest_Fire_Prediction-Mr6mG4gB/lib/python3.10/site-packages/sklearn/utils/validation.py:1300: DataConversionWarning: A column-vector y was passed when a 1d array was expected. Please change the shape of y to (n_samples, ), for example using ravel().\n",
      "  y = column_or_1d(y, warn=True)\n",
      "/Users/kausik/.local/share/virtualenvs/Forest_Fire_Prediction-Mr6mG4gB/lib/python3.10/site-packages/sklearn/linear_model/_logistic.py:1216: UserWarning: 'n_jobs' > 1 does not have any effect when 'solver' is set to 'liblinear'. Got 'n_jobs' = 12.\n",
      "  warnings.warn(\n",
      "/Users/kausik/.local/share/virtualenvs/Forest_Fire_Prediction-Mr6mG4gB/lib/python3.10/site-packages/sklearn/utils/validation.py:1300: DataConversionWarning: A column-vector y was passed when a 1d array was expected. Please change the shape of y to (n_samples, ), for example using ravel().\n",
      "  y = column_or_1d(y, warn=True)\n",
      "/Users/kausik/.local/share/virtualenvs/Forest_Fire_Prediction-Mr6mG4gB/lib/python3.10/site-packages/sklearn/linear_model/_logistic.py:1216: UserWarning: 'n_jobs' > 1 does not have any effect when 'solver' is set to 'liblinear'. Got 'n_jobs' = 12.\n",
      "  warnings.warn(\n",
      "/Users/kausik/.local/share/virtualenvs/Forest_Fire_Prediction-Mr6mG4gB/lib/python3.10/site-packages/sklearn/utils/validation.py:1300: DataConversionWarning: A column-vector y was passed when a 1d array was expected. Please change the shape of y to (n_samples, ), for example using ravel().\n",
      "  y = column_or_1d(y, warn=True)\n",
      "/Users/kausik/.local/share/virtualenvs/Forest_Fire_Prediction-Mr6mG4gB/lib/python3.10/site-packages/sklearn/linear_model/_logistic.py:1216: UserWarning: 'n_jobs' > 1 does not have any effect when 'solver' is set to 'liblinear'. Got 'n_jobs' = 12.\n",
      "  warnings.warn(\n",
      "/Users/kausik/.local/share/virtualenvs/Forest_Fire_Prediction-Mr6mG4gB/lib/python3.10/site-packages/sklearn/utils/validation.py:1300: DataConversionWarning: A column-vector y was passed when a 1d array was expected. Please change the shape of y to (n_samples, ), for example using ravel().\n",
      "  y = column_or_1d(y, warn=True)\n",
      "/Users/kausik/.local/share/virtualenvs/Forest_Fire_Prediction-Mr6mG4gB/lib/python3.10/site-packages/sklearn/linear_model/_logistic.py:1216: UserWarning: 'n_jobs' > 1 does not have any effect when 'solver' is set to 'liblinear'. Got 'n_jobs' = 12.\n",
      "  warnings.warn(\n",
      "/Users/kausik/.local/share/virtualenvs/Forest_Fire_Prediction-Mr6mG4gB/lib/python3.10/site-packages/sklearn/utils/validation.py:1300: DataConversionWarning: A column-vector y was passed when a 1d array was expected. Please change the shape of y to (n_samples, ), for example using ravel().\n",
      "  y = column_or_1d(y, warn=True)\n",
      "/Users/kausik/.local/share/virtualenvs/Forest_Fire_Prediction-Mr6mG4gB/lib/python3.10/site-packages/sklearn/utils/validation.py:1300: DataConversionWarning: A column-vector y was passed when a 1d array was expected. Please change the shape of y to (n_samples, ), for example using ravel().\n",
      "  y = column_or_1d(y, warn=True)\n",
      "/Users/kausik/.local/share/virtualenvs/Forest_Fire_Prediction-Mr6mG4gB/lib/python3.10/site-packages/sklearn/utils/validation.py:1300: DataConversionWarning: A column-vector y was passed when a 1d array was expected. Please change the shape of y to (n_samples, ), for example using ravel().\n",
      "  y = column_or_1d(y, warn=True)\n",
      "/Users/kausik/.local/share/virtualenvs/Forest_Fire_Prediction-Mr6mG4gB/lib/python3.10/site-packages/sklearn/utils/validation.py:1300: DataConversionWarning: A column-vector y was passed when a 1d array was expected. Please change the shape of y to (n_samples, ), for example using ravel().\n",
      "  y = column_or_1d(y, warn=True)\n",
      "/Users/kausik/.local/share/virtualenvs/Forest_Fire_Prediction-Mr6mG4gB/lib/python3.10/site-packages/sklearn/utils/validation.py:1300: DataConversionWarning: A column-vector y was passed when a 1d array was expected. Please change the shape of y to (n_samples, ), for example using ravel().\n",
      "  y = column_or_1d(y, warn=True)\n",
      "/Users/kausik/.local/share/virtualenvs/Forest_Fire_Prediction-Mr6mG4gB/lib/python3.10/site-packages/sklearn/utils/validation.py:1300: DataConversionWarning: A column-vector y was passed when a 1d array was expected. Please change the shape of y to (n_samples, ), for example using ravel().\n",
      "  y = column_or_1d(y, warn=True)\n",
      "/Users/kausik/.local/share/virtualenvs/Forest_Fire_Prediction-Mr6mG4gB/lib/python3.10/site-packages/sklearn/linear_model/_logistic.py:1216: UserWarning: 'n_jobs' > 1 does not have any effect when 'solver' is set to 'liblinear'. Got 'n_jobs' = 12.\n",
      "  warnings.warn(\n",
      "/Users/kausik/.local/share/virtualenvs/Forest_Fire_Prediction-Mr6mG4gB/lib/python3.10/site-packages/sklearn/utils/validation.py:1300: DataConversionWarning: A column-vector y was passed when a 1d array was expected. Please change the shape of y to (n_samples, ), for example using ravel().\n",
      "  y = column_or_1d(y, warn=True)\n",
      "/Users/kausik/.local/share/virtualenvs/Forest_Fire_Prediction-Mr6mG4gB/lib/python3.10/site-packages/sklearn/linear_model/_logistic.py:1216: UserWarning: 'n_jobs' > 1 does not have any effect when 'solver' is set to 'liblinear'. Got 'n_jobs' = 12.\n",
      "  warnings.warn(\n",
      "/Users/kausik/.local/share/virtualenvs/Forest_Fire_Prediction-Mr6mG4gB/lib/python3.10/site-packages/sklearn/utils/validation.py:1300: DataConversionWarning: A column-vector y was passed when a 1d array was expected. Please change the shape of y to (n_samples, ), for example using ravel().\n",
      "  y = column_or_1d(y, warn=True)\n",
      "/Users/kausik/.local/share/virtualenvs/Forest_Fire_Prediction-Mr6mG4gB/lib/python3.10/site-packages/sklearn/linear_model/_logistic.py:1216: UserWarning: 'n_jobs' > 1 does not have any effect when 'solver' is set to 'liblinear'. Got 'n_jobs' = 12.\n",
      "  warnings.warn(\n",
      "/Users/kausik/.local/share/virtualenvs/Forest_Fire_Prediction-Mr6mG4gB/lib/python3.10/site-packages/sklearn/utils/validation.py:1300: DataConversionWarning: A column-vector y was passed when a 1d array was expected. Please change the shape of y to (n_samples, ), for example using ravel().\n",
      "  y = column_or_1d(y, warn=True)\n",
      "/Users/kausik/.local/share/virtualenvs/Forest_Fire_Prediction-Mr6mG4gB/lib/python3.10/site-packages/sklearn/linear_model/_logistic.py:1216: UserWarning: 'n_jobs' > 1 does not have any effect when 'solver' is set to 'liblinear'. Got 'n_jobs' = 12.\n",
      "  warnings.warn(\n",
      "/Users/kausik/.local/share/virtualenvs/Forest_Fire_Prediction-Mr6mG4gB/lib/python3.10/site-packages/sklearn/utils/validation.py:1300: DataConversionWarning: A column-vector y was passed when a 1d array was expected. Please change the shape of y to (n_samples, ), for example using ravel().\n",
      "  y = column_or_1d(y, warn=True)\n",
      "/Users/kausik/.local/share/virtualenvs/Forest_Fire_Prediction-Mr6mG4gB/lib/python3.10/site-packages/sklearn/linear_model/_logistic.py:1216: UserWarning: 'n_jobs' > 1 does not have any effect when 'solver' is set to 'liblinear'. Got 'n_jobs' = 12.\n",
      "  warnings.warn(\n",
      "/Users/kausik/.local/share/virtualenvs/Forest_Fire_Prediction-Mr6mG4gB/lib/python3.10/site-packages/sklearn/utils/validation.py:1300: DataConversionWarning: A column-vector y was passed when a 1d array was expected. Please change the shape of y to (n_samples, ), for example using ravel().\n",
      "  y = column_or_1d(y, warn=True)\n",
      "/Users/kausik/.local/share/virtualenvs/Forest_Fire_Prediction-Mr6mG4gB/lib/python3.10/site-packages/sklearn/utils/validation.py:1300: DataConversionWarning: A column-vector y was passed when a 1d array was expected. Please change the shape of y to (n_samples, ), for example using ravel().\n",
      "  y = column_or_1d(y, warn=True)\n",
      "/Users/kausik/.local/share/virtualenvs/Forest_Fire_Prediction-Mr6mG4gB/lib/python3.10/site-packages/sklearn/utils/validation.py:1300: DataConversionWarning: A column-vector y was passed when a 1d array was expected. Please change the shape of y to (n_samples, ), for example using ravel().\n",
      "  y = column_or_1d(y, warn=True)\n",
      "/Users/kausik/.local/share/virtualenvs/Forest_Fire_Prediction-Mr6mG4gB/lib/python3.10/site-packages/sklearn/utils/validation.py:1300: DataConversionWarning: A column-vector y was passed when a 1d array was expected. Please change the shape of y to (n_samples, ), for example using ravel().\n",
      "  y = column_or_1d(y, warn=True)\n",
      "/Users/kausik/.local/share/virtualenvs/Forest_Fire_Prediction-Mr6mG4gB/lib/python3.10/site-packages/sklearn/utils/validation.py:1300: DataConversionWarning: A column-vector y was passed when a 1d array was expected. Please change the shape of y to (n_samples, ), for example using ravel().\n",
      "  y = column_or_1d(y, warn=True)\n",
      "/Users/kausik/.local/share/virtualenvs/Forest_Fire_Prediction-Mr6mG4gB/lib/python3.10/site-packages/sklearn/utils/validation.py:1300: DataConversionWarning: A column-vector y was passed when a 1d array was expected. Please change the shape of y to (n_samples, ), for example using ravel().\n",
      "  y = column_or_1d(y, warn=True)\n",
      "/Users/kausik/.local/share/virtualenvs/Forest_Fire_Prediction-Mr6mG4gB/lib/python3.10/site-packages/sklearn/linear_model/_logistic.py:1216: UserWarning: 'n_jobs' > 1 does not have any effect when 'solver' is set to 'liblinear'. Got 'n_jobs' = 12.\n",
      "  warnings.warn(\n",
      "/Users/kausik/.local/share/virtualenvs/Forest_Fire_Prediction-Mr6mG4gB/lib/python3.10/site-packages/sklearn/utils/validation.py:1300: DataConversionWarning: A column-vector y was passed when a 1d array was expected. Please change the shape of y to (n_samples, ), for example using ravel().\n",
      "  y = column_or_1d(y, warn=True)\n",
      "/Users/kausik/.local/share/virtualenvs/Forest_Fire_Prediction-Mr6mG4gB/lib/python3.10/site-packages/sklearn/linear_model/_logistic.py:1216: UserWarning: 'n_jobs' > 1 does not have any effect when 'solver' is set to 'liblinear'. Got 'n_jobs' = 12.\n",
      "  warnings.warn(\n",
      "/Users/kausik/.local/share/virtualenvs/Forest_Fire_Prediction-Mr6mG4gB/lib/python3.10/site-packages/sklearn/utils/validation.py:1300: DataConversionWarning: A column-vector y was passed when a 1d array was expected. Please change the shape of y to (n_samples, ), for example using ravel().\n",
      "  y = column_or_1d(y, warn=True)\n",
      "/Users/kausik/.local/share/virtualenvs/Forest_Fire_Prediction-Mr6mG4gB/lib/python3.10/site-packages/sklearn/linear_model/_logistic.py:1216: UserWarning: 'n_jobs' > 1 does not have any effect when 'solver' is set to 'liblinear'. Got 'n_jobs' = 12.\n",
      "  warnings.warn(\n",
      "/Users/kausik/.local/share/virtualenvs/Forest_Fire_Prediction-Mr6mG4gB/lib/python3.10/site-packages/sklearn/utils/validation.py:1300: DataConversionWarning: A column-vector y was passed when a 1d array was expected. Please change the shape of y to (n_samples, ), for example using ravel().\n",
      "  y = column_or_1d(y, warn=True)\n",
      "/Users/kausik/.local/share/virtualenvs/Forest_Fire_Prediction-Mr6mG4gB/lib/python3.10/site-packages/sklearn/linear_model/_logistic.py:1216: UserWarning: 'n_jobs' > 1 does not have any effect when 'solver' is set to 'liblinear'. Got 'n_jobs' = 12.\n",
      "  warnings.warn(\n",
      "/Users/kausik/.local/share/virtualenvs/Forest_Fire_Prediction-Mr6mG4gB/lib/python3.10/site-packages/sklearn/utils/validation.py:1300: DataConversionWarning: A column-vector y was passed when a 1d array was expected. Please change the shape of y to (n_samples, ), for example using ravel().\n",
      "  y = column_or_1d(y, warn=True)\n",
      "/Users/kausik/.local/share/virtualenvs/Forest_Fire_Prediction-Mr6mG4gB/lib/python3.10/site-packages/sklearn/linear_model/_logistic.py:1216: UserWarning: 'n_jobs' > 1 does not have any effect when 'solver' is set to 'liblinear'. Got 'n_jobs' = 12.\n",
      "  warnings.warn(\n",
      "/Users/kausik/.local/share/virtualenvs/Forest_Fire_Prediction-Mr6mG4gB/lib/python3.10/site-packages/sklearn/utils/validation.py:1300: DataConversionWarning: A column-vector y was passed when a 1d array was expected. Please change the shape of y to (n_samples, ), for example using ravel().\n",
      "  y = column_or_1d(y, warn=True)\n",
      "/Users/kausik/.local/share/virtualenvs/Forest_Fire_Prediction-Mr6mG4gB/lib/python3.10/site-packages/sklearn/utils/validation.py:1300: DataConversionWarning: A column-vector y was passed when a 1d array was expected. Please change the shape of y to (n_samples, ), for example using ravel().\n",
      "  y = column_or_1d(y, warn=True)\n",
      "/Users/kausik/.local/share/virtualenvs/Forest_Fire_Prediction-Mr6mG4gB/lib/python3.10/site-packages/sklearn/utils/validation.py:1300: DataConversionWarning: A column-vector y was passed when a 1d array was expected. Please change the shape of y to (n_samples, ), for example using ravel().\n",
      "  y = column_or_1d(y, warn=True)\n",
      "/Users/kausik/.local/share/virtualenvs/Forest_Fire_Prediction-Mr6mG4gB/lib/python3.10/site-packages/sklearn/utils/validation.py:1300: DataConversionWarning: A column-vector y was passed when a 1d array was expected. Please change the shape of y to (n_samples, ), for example using ravel().\n",
      "  y = column_or_1d(y, warn=True)\n",
      "/Users/kausik/.local/share/virtualenvs/Forest_Fire_Prediction-Mr6mG4gB/lib/python3.10/site-packages/sklearn/utils/validation.py:1300: DataConversionWarning: A column-vector y was passed when a 1d array was expected. Please change the shape of y to (n_samples, ), for example using ravel().\n",
      "  y = column_or_1d(y, warn=True)\n",
      "/Users/kausik/.local/share/virtualenvs/Forest_Fire_Prediction-Mr6mG4gB/lib/python3.10/site-packages/sklearn/utils/validation.py:1300: DataConversionWarning: A column-vector y was passed when a 1d array was expected. Please change the shape of y to (n_samples, ), for example using ravel().\n",
      "  y = column_or_1d(y, warn=True)\n",
      "/Users/kausik/.local/share/virtualenvs/Forest_Fire_Prediction-Mr6mG4gB/lib/python3.10/site-packages/sklearn/linear_model/_logistic.py:1216: UserWarning: 'n_jobs' > 1 does not have any effect when 'solver' is set to 'liblinear'. Got 'n_jobs' = 12.\n",
      "  warnings.warn(\n",
      "/Users/kausik/.local/share/virtualenvs/Forest_Fire_Prediction-Mr6mG4gB/lib/python3.10/site-packages/sklearn/utils/validation.py:1300: DataConversionWarning: A column-vector y was passed when a 1d array was expected. Please change the shape of y to (n_samples, ), for example using ravel().\n",
      "  y = column_or_1d(y, warn=True)\n",
      "/Users/kausik/.local/share/virtualenvs/Forest_Fire_Prediction-Mr6mG4gB/lib/python3.10/site-packages/sklearn/linear_model/_logistic.py:1216: UserWarning: 'n_jobs' > 1 does not have any effect when 'solver' is set to 'liblinear'. Got 'n_jobs' = 12.\n",
      "  warnings.warn(\n",
      "/Users/kausik/.local/share/virtualenvs/Forest_Fire_Prediction-Mr6mG4gB/lib/python3.10/site-packages/sklearn/utils/validation.py:1300: DataConversionWarning: A column-vector y was passed when a 1d array was expected. Please change the shape of y to (n_samples, ), for example using ravel().\n",
      "  y = column_or_1d(y, warn=True)\n",
      "/Users/kausik/.local/share/virtualenvs/Forest_Fire_Prediction-Mr6mG4gB/lib/python3.10/site-packages/sklearn/linear_model/_logistic.py:1216: UserWarning: 'n_jobs' > 1 does not have any effect when 'solver' is set to 'liblinear'. Got 'n_jobs' = 12.\n",
      "  warnings.warn(\n",
      "/Users/kausik/.local/share/virtualenvs/Forest_Fire_Prediction-Mr6mG4gB/lib/python3.10/site-packages/sklearn/utils/validation.py:1300: DataConversionWarning: A column-vector y was passed when a 1d array was expected. Please change the shape of y to (n_samples, ), for example using ravel().\n",
      "  y = column_or_1d(y, warn=True)\n",
      "/Users/kausik/.local/share/virtualenvs/Forest_Fire_Prediction-Mr6mG4gB/lib/python3.10/site-packages/sklearn/linear_model/_logistic.py:1216: UserWarning: 'n_jobs' > 1 does not have any effect when 'solver' is set to 'liblinear'. Got 'n_jobs' = 12.\n",
      "  warnings.warn(\n"
     ]
    }
   ],
   "source": [
    "import warnings\n",
    "warnings.filterwarnings(\"ignore\")\n",
    "from sklearnex import patch_sklearn\n",
    "from sklearn.linear_model import LogisticRegression\n",
    "from sklearn.model_selection import GridSearchCV\n",
    "\n",
    "patch_sklearn(global_patch=True)\n",
    "\n",
    "# Define the hyperparameters\n",
    "param_grid = [\n",
    "    {'penalty': ['l1'], 'solver': ['liblinear', 'saga'], 'C': [0.001, 0.01, 0.1, 1, 10, 100, 1000],\"n_jobs\":[-1]},\n",
    "    {'penalty': ['l2'], 'solver': ['newton-cg', 'lbfgs', 'liblinear', 'sag', 'saga'], 'C': [0.001, 0.01, 0.1, 1, 10, 100, 1000],\"n_jobs\":[-1]}\n",
    "]\n",
    "# Initialize a Logistic Regression classifier\n",
    "logreg = LogisticRegression(max_iter=100000)\n",
    "\n",
    "# Initialize GridSearchCV\n",
    "grid_search = GridSearchCV(estimator=logreg, param_grid=param_grid, cv=5, scoring='accuracy', n_jobs=-1)\n",
    "\n",
    "# Fit GridSearchCV\n",
    "grid_search.fit(X_train, y_train)\n",
    "\n",
    "# Get the best parameters\n",
    "best_parameters = grid_search.best_params_\n",
    "\n",
    "# Fit the model with the best parameters\n",
    "logreg_best = LogisticRegression(**best_parameters)\n",
    "logreg_best.fit(X_train, y_train)\n",
    "\n",
    "# Predict the test set results\n",
    "y_pred = logreg_best.predict(X_test)\n",
    "\n",
    "# Print the results\n",
    "print(\"Best parameters for Logistic Regression: \", best_parameters)\n",
    "print(classification_report(y_test, y_pred))\n",
    "print('Accuracy score: ', round(accuracy_score(y_test, y_pred), 2))"
   ],
   "metadata": {
    "collapsed": false,
    "is_executing": true,
    "ExecuteTime": {
     "start_time": "2024-02-23T06:44:19.765722Z"
    }
   },
   "id": "b657a265fea3e5a9",
   "execution_count": null
  },
  {
   "cell_type": "code",
   "outputs": [],
   "source": [
    "import pickle\n",
    "    \n",
    "# Save the model\n",
    "pickle.dump(logreg,open(\"best_logreg.pkl\",\"wb\"))"
   ],
   "metadata": {
    "collapsed": false,
    "is_executing": true
   },
   "id": "e9cb56e113c762e9"
  },
  {
   "cell_type": "code",
   "execution_count": 16,
   "id": "181b66ee",
   "metadata": {
    "execution": {
     "iopub.execute_input": "2022-11-05T20:18:10.516837Z",
     "iopub.status.busy": "2022-11-05T20:18:10.516293Z",
     "iopub.status.idle": "2022-11-05T20:18:10.633650Z",
     "shell.execute_reply": "2022-11-05T20:18:10.632195Z"
    },
    "papermill": {
     "duration": 0.134706,
     "end_time": "2022-11-05T20:18:10.636056",
     "exception": false,
     "start_time": "2022-11-05T20:18:10.501350",
     "status": "completed"
    },
    "tags": []
   },
   "outputs": [],
   "source": [
    "from sklearn.linear_model import LogisticRegression\n",
    "lr = LogisticRegression(solver='liblinear', penalty='l2').fit(X_train, y_train)"
   ]
  },
  {
   "cell_type": "markdown",
   "id": "6935e6ea",
   "metadata": {
    "papermill": {
     "duration": 0.014537,
     "end_time": "2022-11-05T20:18:10.665066",
     "exception": false,
     "start_time": "2022-11-05T20:18:10.650529",
     "status": "completed"
    },
    "tags": []
   },
   "source": [
    "> Plotting the confusion matrix "
   ]
  },
  {
   "cell_type": "code",
   "execution_count": 17,
   "id": "8522da86",
   "metadata": {
    "execution": {
     "iopub.execute_input": "2022-11-05T20:18:10.694716Z",
     "iopub.status.busy": "2022-11-05T20:18:10.694351Z",
     "iopub.status.idle": "2022-11-05T20:18:10.706843Z",
     "shell.execute_reply": "2022-11-05T20:18:10.702059Z"
    },
    "papermill": {
     "duration": 0.029853,
     "end_time": "2022-11-05T20:18:10.709151",
     "exception": false,
     "start_time": "2022-11-05T20:18:10.679298",
     "status": "completed"
    },
    "tags": []
   },
   "outputs": [],
   "source": [
    "predictions=lr.predict(X_test)"
   ]
  },
  {
   "cell_type": "code",
   "execution_count": 18,
   "id": "df45da30",
   "metadata": {
    "execution": {
     "iopub.execute_input": "2022-11-05T20:18:10.747357Z",
     "iopub.status.busy": "2022-11-05T20:18:10.746924Z",
     "iopub.status.idle": "2022-11-05T20:18:10.927638Z",
     "shell.execute_reply": "2022-11-05T20:18:10.926054Z"
    },
    "papermill": {
     "duration": 0.202295,
     "end_time": "2022-11-05T20:18:10.929615",
     "exception": false,
     "start_time": "2022-11-05T20:18:10.727320",
     "status": "completed"
    },
    "tags": []
   },
   "outputs": [
    {
     "data": {
      "image/png": "[encoded data removed]",
      "text/plain": [
       "<Figure size 432x288 with 2 Axes>"
      ]
     },
     "metadata": {
      "needs_background": "light"
     },
     "output_type": "display_data"
    }
   ],
   "source": [
    "from sklearn.metrics import precision_recall_fscore_support as score\n",
    "from sklearn.metrics import confusion_matrix, accuracy_score, roc_auc_score\n",
    "sns.set_context('talk')\n",
    "cm = confusion_matrix(y_test, predictions)\n",
    "ax = sns.heatmap(cm, annot=True, fmt='d')"
   ]
  },
  {
   "cell_type": "markdown",
   "id": "11f6ad50",
   "metadata": {
    "papermill": {
     "duration": 0.013727,
     "end_time": "2022-11-05T20:18:10.958127",
     "exception": false,
     "start_time": "2022-11-05T20:18:10.944400",
     "status": "completed"
    },
    "tags": []
   },
   "source": [
    "**The confusion matrix for logistic regression indicates that all the type 0s are predicted correctly, none of them are predicted as 1, while a lot of type 2s (depicted as 1 in the confusion matrix) are predicted as 0.**"
   ]
  },
  {
   "cell_type": "markdown",
   "id": "b10f5f5a",
   "metadata": {
    "papermill": {
     "duration": 0.015364,
     "end_time": "2022-11-05T20:18:10.988878",
     "exception": false,
     "start_time": "2022-11-05T20:18:10.973514",
     "status": "completed"
    },
    "tags": []
   },
   "source": []
  },
  {
   "cell_type": "code",
   "execution_count": 19,
   "id": "dc9b9096",
   "metadata": {
    "execution": {
     "iopub.execute_input": "2022-11-05T20:18:11.019727Z",
     "iopub.status.busy": "2022-11-05T20:18:11.019379Z",
     "iopub.status.idle": "2022-11-05T20:18:11.029949Z",
     "shell.execute_reply": "2022-11-05T20:18:11.029096Z"
    },
    "papermill": {
     "duration": 0.027898,
     "end_time": "2022-11-05T20:18:11.032015",
     "exception": false,
     "start_time": "2022-11-05T20:18:11.004117",
     "status": "completed"
    },
    "tags": []
   },
   "outputs": [
    {
     "name": "stdout",
     "output_type": "stream",
     "text": [
      "              precision    recall  f1-score   support\n",
      "\n",
      "           0       0.90      1.00      0.95      1583\n",
      "           2       1.00      0.81      0.89       863\n",
      "\n",
      "    accuracy                           0.93      2446\n",
      "   macro avg       0.95      0.90      0.92      2446\n",
      "weighted avg       0.94      0.93      0.93      2446\n",
      "\n",
      "Accuracy score:  0.93\n"
     ]
    }
   ],
   "source": [
    "print(classification_report(y_test, predictions))\n",
    "print('Accuracy score: ', round(accuracy_score(y_test, predictions), 2))"
   ]
  },
  {
   "cell_type": "markdown",
   "id": "f3ec9b95",
   "metadata": {
    "papermill": {
     "duration": 0.014556,
     "end_time": "2022-11-05T20:18:11.060810",
     "exception": false,
     "start_time": "2022-11-05T20:18:11.046254",
     "status": "completed"
    },
    "tags": []
   },
   "source": [
    "Therefore with `logistic regression` we get an accuracy of **93%**"
   ]
  },
  {
   "cell_type": "markdown",
   "id": "544f1a02",
   "metadata": {
    "papermill": {
     "duration": 0.013791,
     "end_time": "2022-11-05T20:18:11.088746",
     "exception": false,
     "start_time": "2022-11-05T20:18:11.074955",
     "status": "completed"
    },
    "tags": []
   },
   "source": [
    "## K Nearest Neighbour"
   ]
  },
  {
   "cell_type": "code",
   "execution_count": 20,
   "id": "4ab4e0da",
   "metadata": {
    "execution": {
     "iopub.execute_input": "2022-11-05T20:18:11.119392Z",
     "iopub.status.busy": "2022-11-05T20:18:11.118363Z",
     "iopub.status.idle": "2022-11-05T20:18:11.172240Z",
     "shell.execute_reply": "2022-11-05T20:18:11.171401Z"
    },
    "papermill": {
     "duration": 0.071675,
     "end_time": "2022-11-05T20:18:11.174536",
     "exception": false,
     "start_time": "2022-11-05T20:18:11.102861",
     "status": "completed"
    },
    "tags": []
   },
   "outputs": [],
   "source": [
    "from sklearn.neighbors import KNeighborsClassifier\n"
   ]
  },
  {
   "cell_type": "markdown",
   "id": "68a8b108",
   "metadata": {
    "papermill": {
     "duration": 0.013535,
     "end_time": "2022-11-05T20:18:11.202252",
     "exception": false,
     "start_time": "2022-11-05T20:18:11.188717",
     "status": "completed"
    },
    "tags": []
   },
   "source": [
    "> Checking the accuracy for different values of K to find the best one."
   ]
  },
  {
   "cell_type": "code",
   "execution_count": 21,
   "id": "7e821cda",
   "metadata": {
    "execution": {
     "iopub.execute_input": "2022-11-05T20:18:11.231892Z",
     "iopub.status.busy": "2022-11-05T20:18:11.230993Z",
     "iopub.status.idle": "2022-11-05T20:18:11.872355Z",
     "shell.execute_reply": "2022-11-05T20:18:11.870919Z"
    },
    "papermill": {
     "duration": 0.658749,
     "end_time": "2022-11-05T20:18:11.874714",
     "exception": false,
     "start_time": "2022-11-05T20:18:11.215965",
     "status": "completed"
    },
    "tags": []
   },
   "outputs": [],
   "source": [
    "accuracy_rate=[]\n",
    "\n",
    "for i in range(1,10):\n",
    "    knn = KNeighborsClassifier(n_neighbors=i)\n",
    "    knn = knn.fit(X_train, y_train)\n",
    "    y_pred = knn.predict(X_test)\n",
    "    score=round(accuracy_score(y_test, y_pred), 2)\n",
    "    accuracy_rate.append(score.mean())"
   ]
  },
  {
   "cell_type": "code",
   "execution_count": 22,
   "id": "657e9baf",
   "metadata": {
    "execution": {
     "iopub.execute_input": "2022-11-05T20:18:11.905282Z",
     "iopub.status.busy": "2022-11-05T20:18:11.904879Z",
     "iopub.status.idle": "2022-11-05T20:18:12.103941Z",
     "shell.execute_reply": "2022-11-05T20:18:12.102479Z"
    },
    "papermill": {
     "duration": 0.217998,
     "end_time": "2022-11-05T20:18:12.106706",
     "exception": false,
     "start_time": "2022-11-05T20:18:11.888708",
     "status": "completed"
    },
    "tags": []
   },
   "outputs": [
    {
     "data": {
      "text/plain": [
       "Text(0, 0.5, 'Accuracy')"
      ]
     },
     "execution_count": 22,
     "metadata": {},
     "output_type": "execute_result"
    },
    {
     "data": {
      "image/png": "[encoded data removed]",
      "text/plain": [
       "<Figure size 720x432 with 1 Axes>"
      ]
     },
     "metadata": {
      "needs_background": "light"
     },
     "output_type": "display_data"
    }
   ],
   "source": [
    "plt.figure(figsize=(10,6))\n",
    "plt.plot(range(1,10),accuracy_rate,color='blue',linestyle='dashed',marker='o',markerfacecolor='red',markersize=10)\n",
    "plt.title('Accuracy Rate vs K value')\n",
    "plt.xlabel('K')\n",
    "plt.ylabel('Accuracy')"
   ]
  },
  {
   "cell_type": "markdown",
   "id": "14287b12",
   "metadata": {
    "papermill": {
     "duration": 0.015309,
     "end_time": "2022-11-05T20:18:12.137649",
     "exception": false,
     "start_time": "2022-11-05T20:18:12.122340",
     "status": "completed"
    },
    "tags": []
   },
   "source": [
    "As shown in the graph. K=2 gives us the best accuracy."
   ]
  },
  {
   "cell_type": "code",
   "execution_count": 23,
   "id": "f8f3c323",
   "metadata": {
    "execution": {
     "iopub.execute_input": "2022-11-05T20:18:12.169705Z",
     "iopub.status.busy": "2022-11-05T20:18:12.169299Z",
     "iopub.status.idle": "2022-11-05T20:18:12.253271Z",
     "shell.execute_reply": "2022-11-05T20:18:12.251879Z"
    },
    "papermill": {
     "duration": 0.102544,
     "end_time": "2022-11-05T20:18:12.255275",
     "exception": false,
     "start_time": "2022-11-05T20:18:12.152731",
     "status": "completed"
    },
    "tags": []
   },
   "outputs": [
    {
     "name": "stdout",
     "output_type": "stream",
     "text": [
      "              precision    recall  f1-score   support\n",
      "\n",
      "           0       0.93      0.98      0.96      1583\n",
      "           2       0.97      0.87      0.92       863\n",
      "\n",
      "    accuracy                           0.95      2446\n",
      "   macro avg       0.95      0.93      0.94      2446\n",
      "weighted avg       0.95      0.95      0.94      2446\n",
      "\n",
      "Accuracy score:  0.95\n"
     ]
    }
   ],
   "source": [
    "# Estimate KNN model and report outcomes\n",
    "knn = KNeighborsClassifier(n_neighbors=2)\n",
    "knn = knn.fit(X_train, y_train)\n",
    "y_pred = knn.predict(X_test)\n",
    "# Preciision, recall, f-score from the multi-class support function\n",
    "print(classification_report(y_test, y_pred))\n",
    "print('Accuracy score: ', round(accuracy_score(y_test, y_pred), 2))"
   ]
  },
  {
   "cell_type": "markdown",
   "id": "0c4f9eff",
   "metadata": {
    "papermill": {
     "duration": 0.013949,
     "end_time": "2022-11-05T20:18:12.283535",
     "exception": false,
     "start_time": "2022-11-05T20:18:12.269586",
     "status": "completed"
    },
    "tags": []
   },
   "source": [
    "> Plotting the confusion matrix for KNN"
   ]
  },
  {
   "cell_type": "code",
   "execution_count": 24,
   "id": "6b444d9f",
   "metadata": {
    "execution": {
     "iopub.execute_input": "2022-11-05T20:18:12.313870Z",
     "iopub.status.busy": "2022-11-05T20:18:12.313505Z",
     "iopub.status.idle": "2022-11-05T20:18:12.474885Z",
     "shell.execute_reply": "2022-11-05T20:18:12.473664Z"
    },
    "papermill": {
     "duration": 0.179531,
     "end_time": "2022-11-05T20:18:12.477486",
     "exception": false,
     "start_time": "2022-11-05T20:18:12.297955",
     "status": "completed"
    },
    "tags": []
   },
   "outputs": [
    {
     "data": {
      "image/png": "[encoded data removed]",
      "text/plain": [
       "<Figure size 432x288 with 2 Axes>"
      ]
     },
     "metadata": {
      "needs_background": "light"
     },
     "output_type": "display_data"
    }
   ],
   "source": [
    "sns.set_context('talk')\n",
    "cm = confusion_matrix(y_test, y_pred)\n",
    "ax = sns.heatmap(cm, annot=True, fmt='d')"
   ]
  },
  {
   "cell_type": "markdown",
   "id": "47d169a1",
   "metadata": {
    "papermill": {
     "duration": 0.014432,
     "end_time": "2022-11-05T20:18:12.506945",
     "exception": false,
     "start_time": "2022-11-05T20:18:12.492513",
     "status": "completed"
    },
    "tags": []
   },
   "source": []
  },
  {
   "cell_type": "markdown",
   "id": "84e5c31d",
   "metadata": {
    "papermill": {
     "duration": 0.014457,
     "end_time": "2022-11-05T20:18:12.536874",
     "exception": false,
     "start_time": "2022-11-05T20:18:12.522417",
     "status": "completed"
    },
    "tags": []
   },
   "source": [
    "**Even though the accuracy for KNN (95%) is higher than that for Logistic Regression (93%), KNN model predicts a fair number of type 0s incorrectly.**"
   ]
  },
  {
   "cell_type": "markdown",
   "id": "9882a6f0",
   "metadata": {
    "papermill": {
     "duration": 0.014485,
     "end_time": "2022-11-05T20:18:12.566331",
     "exception": false,
     "start_time": "2022-11-05T20:18:12.551846",
     "status": "completed"
    },
    "tags": []
   },
   "source": [
    "### XG BOOST"
   ]
  },
  {
   "cell_type": "markdown",
   "id": "f7d18821",
   "metadata": {
    "papermill": {
     "duration": 0.014559,
     "end_time": "2022-11-05T20:18:12.595960",
     "exception": false,
     "start_time": "2022-11-05T20:18:12.581401",
     "status": "completed"
    },
    "tags": []
   },
   "source": [
    "- Using a list of number of trees we will iterate through each and select the one that gives us the least error. "
   ]
  },
  {
   "cell_type": "code",
   "execution_count": null,
   "id": "5d7f438f",
   "metadata": {
    "execution": {
     "iopub.execute_input": "2022-11-05T20:18:12.627301Z",
     "iopub.status.busy": "2022-11-05T20:18:12.626679Z",
     "iopub.status.idle": "2022-11-05T20:18:30.443334Z",
     "shell.execute_reply": "2022-11-05T20:18:30.441102Z"
    },
    "papermill": {
     "duration": 17.834746,
     "end_time": "2022-11-05T20:18:30.445440",
     "exception": false,
     "start_time": "2022-11-05T20:18:12.610694",
     "status": "completed"
    },
    "tags": [],
    "is_executing": true
   },
   "outputs": [],
   "source": [
    "### BEGIN SOLUTION\n",
    "from sklearn.ensemble import GradientBoostingClassifier\n",
    "from sklearn.metrics import accuracy_score\n",
    "\n",
    "error_list = list()\n",
    "\n",
    "# Iterate through various possibilities for number of trees\n",
    "tree_list = [15, 25, 50, 100, 200, 400]\n",
    "for n_trees in tree_list:\n",
    "    \n",
    "    # Initialize the gradient boost classifier\n",
    "    GBC = GradientBoostingClassifier(n_estimators=n_trees, random_state=42)\n",
    "\n",
    "    # Fit the model\n",
    "    print(f'Fitting model with {n_trees} trees')\n",
    "    GBC.fit(X_train.values, y_train.values)\n",
    "    y_pred = GBC.predict(X_test)\n",
    "\n",
    "    # Get the error\n",
    "    error = 1.0 - accuracy_score(y_test, y_pred)\n",
    "    \n",
    "    # Store it\n",
    "    error_list.append(pd.Series({'n_trees': n_trees, 'error': error}))\n",
    "\n",
    "error_df = pd.concat(error_list, axis=1).T.set_index('n_trees')\n",
    "\n",
    "error_df"
   ]
  },
  {
   "cell_type": "code",
   "outputs": [],
   "source": [],
   "metadata": {
    "collapsed": false
   },
   "id": "7d28a1504333eebe"
  },
  {
   "cell_type": "markdown",
   "id": "1add790c",
   "metadata": {
    "papermill": {
     "duration": 0.015263,
     "end_time": "2022-11-05T20:18:30.476352",
     "exception": false,
     "start_time": "2022-11-05T20:18:30.461089",
     "status": "completed"
    },
    "tags": []
   },
   "source": [
    "- Plotting a graph to analyse the error rate for every number of trees."
   ]
  },
  {
   "cell_type": "code",
   "execution_count": 26,
   "id": "35cc9aa6",
   "metadata": {
    "execution": {
     "iopub.execute_input": "2022-11-05T20:18:30.509161Z",
     "iopub.status.busy": "2022-11-05T20:18:30.508779Z",
     "iopub.status.idle": "2022-11-05T20:18:30.776859Z",
     "shell.execute_reply": "2022-11-05T20:18:30.775901Z"
    },
    "papermill": {
     "duration": 0.287016,
     "end_time": "2022-11-05T20:18:30.778883",
     "exception": false,
     "start_time": "2022-11-05T20:18:30.491867",
     "status": "completed"
    },
    "tags": []
   },
   "outputs": [
    {
     "data": {
      "image/png": "[encoded data removed]",
      "text/plain": [
       "<Figure size 864x576 with 1 Axes>"
      ]
     },
     "metadata": {},
     "output_type": "display_data"
    }
   ],
   "source": [
    "sns.set_context('talk')\n",
    "sns.set_style('white')\n",
    "\n",
    "# Create the plot\n",
    "ax = error_df.plot(marker='o', figsize=(12, 8), linewidth=5)\n",
    "\n",
    "# Set parameters\n",
    "ax.set(xlabel='Number of Trees', ylabel='Error')\n",
    "ax.set_xlim(0, max(error_df.index)*1.1);\n",
    "### END SOLUTION"
   ]
  },
  {
   "cell_type": "markdown",
   "id": "82bef8f1",
   "metadata": {
    "papermill": {
     "duration": 0.0158,
     "end_time": "2022-11-05T20:18:30.811349",
     "exception": false,
     "start_time": "2022-11-05T20:18:30.795549",
     "status": "completed"
    },
    "tags": []
   },
   "source": [
    "- As shown in the graph, no. of trees=200 gives us the least error"
   ]
  },
  {
   "cell_type": "markdown",
   "id": "d5dfc04e",
   "metadata": {
    "papermill": {
     "duration": 0.015882,
     "end_time": "2022-11-05T20:18:30.843459",
     "exception": false,
     "start_time": "2022-11-05T20:18:30.827577",
     "status": "completed"
    },
    "tags": []
   },
   "source": [
    "> We can also make the use of **GridSearchCV** library of Sklearn to find the best estimator."
   ]
  },
  {
   "cell_type": "code",
   "execution_count": 27,
   "id": "90e55405",
   "metadata": {
    "execution": {
     "iopub.execute_input": "2022-11-05T20:18:30.878098Z",
     "iopub.status.busy": "2022-11-05T20:18:30.876999Z",
     "iopub.status.idle": "2022-11-05T20:21:40.142057Z",
     "shell.execute_reply": "2022-11-05T20:21:40.140640Z"
    },
    "papermill": {
     "duration": 189.284801,
     "end_time": "2022-11-05T20:21:40.144402",
     "exception": false,
     "start_time": "2022-11-05T20:18:30.859601",
     "status": "completed"
    },
    "tags": []
   },
   "outputs": [],
   "source": [
    "### BEGIN SOLUTION\n",
    "from sklearn.model_selection import GridSearchCV\n",
    "\n",
    "# The parameters to be fit\n",
    "param_grid = {'n_estimators': tree_list,\n",
    "              'learning_rate': [0.1, 0.01, 0.001, 0.0001],\n",
    "              'subsample': [1.0, 0.5],\n",
    "              'max_features': [1, 2, 3, 4]}\n",
    "\n",
    "# The grid search object\n",
    "GV_GBC = GridSearchCV(GradientBoostingClassifier(random_state=42), \n",
    "                      param_grid=param_grid, \n",
    "                      scoring='accuracy',\n",
    "                      n_jobs=-1)\n",
    "\n",
    "# Do the grid search\n",
    "GV_GBC = GV_GBC.fit(X_train, y_train)"
   ]
  },
  {
   "cell_type": "code",
   "execution_count": 28,
   "id": "acdb4036",
   "metadata": {
    "execution": {
     "iopub.execute_input": "2022-11-05T20:21:40.178531Z",
     "iopub.status.busy": "2022-11-05T20:21:40.178154Z",
     "iopub.status.idle": "2022-11-05T20:21:40.188629Z",
     "shell.execute_reply": "2022-11-05T20:21:40.187367Z"
    },
    "papermill": {
     "duration": 0.03032,
     "end_time": "2022-11-05T20:21:40.191084",
     "exception": false,
     "start_time": "2022-11-05T20:21:40.160764",
     "status": "completed"
    },
    "tags": []
   },
   "outputs": [
    {
     "data": {
      "text/plain": [
       "GradientBoostingClassifier(max_features=4, n_estimators=200, random_state=42)"
      ]
     },
     "execution_count": 28,
     "metadata": {},
     "output_type": "execute_result"
    }
   ],
   "source": [
    "GV_GBC.best_estimator_"
   ]
  },
  {
   "cell_type": "code",
   "execution_count": 29,
   "id": "a7062b60",
   "metadata": {
    "execution": {
     "iopub.execute_input": "2022-11-05T20:21:40.224559Z",
     "iopub.status.busy": "2022-11-05T20:21:40.224198Z",
     "iopub.status.idle": "2022-11-05T20:21:40.244013Z",
     "shell.execute_reply": "2022-11-05T20:21:40.242959Z"
    },
    "papermill": {
     "duration": 0.038921,
     "end_time": "2022-11-05T20:21:40.246102",
     "exception": false,
     "start_time": "2022-11-05T20:21:40.207181",
     "status": "completed"
    },
    "tags": []
   },
   "outputs": [
    {
     "name": "stdout",
     "output_type": "stream",
     "text": [
      "              precision    recall  f1-score   support\n",
      "\n",
      "           0       0.99      0.98      0.99      1611\n",
      "           2       0.96      0.99      0.97       835\n",
      "\n",
      "    accuracy                           0.98      2446\n",
      "   macro avg       0.98      0.98      0.98      2446\n",
      "weighted avg       0.98      0.98      0.98      2446\n"
     ]
    }
   ],
   "source": [
    "from sklearn.metrics import classification_report\n",
    "\n",
    "y_pred = GV_GBC.predict(X_test)\n",
    "print(classification_report(y_pred, y_test))"
   ]
  },
  {
   "cell_type": "markdown",
   "id": "e7f99ce9",
   "metadata": {
    "papermill": {
     "duration": 0.019254,
     "end_time": "2022-11-05T20:21:40.281597",
     "exception": false,
     "start_time": "2022-11-05T20:21:40.262343",
     "status": "completed"
    },
    "tags": []
   },
   "source": [
    "**We can get an accuracy of 98% with XGBOOST, higher than the rest of the models.**"
   ]
  },
  {
   "cell_type": "code",
   "execution_count": 30,
   "id": "6c517bf5",
   "metadata": {
    "execution": {
     "iopub.execute_input": "2022-11-05T20:21:40.325241Z",
     "iopub.status.busy": "2022-11-05T20:21:40.324296Z",
     "iopub.status.idle": "2022-11-05T20:21:40.333490Z",
     "shell.execute_reply": "2022-11-05T20:21:40.332077Z"
    },
    "papermill": {
     "duration": 0.034501,
     "end_time": "2022-11-05T20:21:40.335568",
     "exception": false,
     "start_time": "2022-11-05T20:21:40.301067",
     "status": "completed"
    },
    "tags": []
   },
   "outputs": [
    {
     "data": {
      "text/plain": [
       "0.982011447260834"
      ]
     },
     "execution_count": 30,
     "metadata": {},
     "output_type": "execute_result"
    }
   ],
   "source": [
    "from sklearn.metrics import accuracy_score\n",
    "accuracy_score(y_test, y_pred)"
   ]
  },
  {
   "cell_type": "code",
   "execution_count": 31,
   "id": "4d361459",
   "metadata": {
    "execution": {
     "iopub.execute_input": "2022-11-05T20:21:40.372495Z",
     "iopub.status.busy": "2022-11-05T20:21:40.372020Z",
     "iopub.status.idle": "2022-11-05T20:21:40.548554Z",
     "shell.execute_reply": "2022-11-05T20:21:40.547485Z"
    },
    "papermill": {
     "duration": 0.195913,
     "end_time": "2022-11-05T20:21:40.550458",
     "exception": false,
     "start_time": "2022-11-05T20:21:40.354545",
     "status": "completed"
    },
    "tags": []
   },
   "outputs": [
    {
     "data": {
      "image/png": "[encoded data removed]",
      "text/plain": [
       "<Figure size 432x288 with 2 Axes>"
      ]
     },
     "metadata": {},
     "output_type": "display_data"
    }
   ],
   "source": [
    "from sklearn.metrics import confusion_matrix\n",
    "\n",
    "sns.set_context('talk')\n",
    "cm = confusion_matrix(y_test, y_pred)\n",
    "ax = sns.heatmap(cm, annot=True, fmt='d')"
   ]
  },
  {
   "cell_type": "markdown",
   "id": "20ce044e",
   "metadata": {
    "papermill": {
     "duration": 0.016259,
     "end_time": "2022-11-05T20:21:40.583450",
     "exception": false,
     "start_time": "2022-11-05T20:21:40.567191",
     "status": "completed"
    },
    "tags": []
   },
   "source": [
    "> Confusion matrix shows least amount values predicted incorrectly."
   ]
  },
  {
   "cell_type": "markdown",
   "id": "5c13be80",
   "metadata": {
    "papermill": {
     "duration": 0.01627,
     "end_time": "2022-11-05T20:21:40.616336",
     "exception": false,
     "start_time": "2022-11-05T20:21:40.600066",
     "status": "completed"
    },
    "tags": []
   },
   "source": []
  },
  {
   "cell_type": "markdown",
   "id": "8353f0d7",
   "metadata": {
    "papermill": {
     "duration": 0.015773,
     "end_time": "2022-11-05T20:21:40.648278",
     "exception": false,
     "start_time": "2022-11-05T20:21:40.632505",
     "status": "completed"
    },
    "tags": []
   },
   "source": [
    "## Conclusion: \n",
    "- Logistic Regression: 93% \n",
    "- KNN: 95%\n",
    "- XGBOOST: 98% "
   ]
  },
  {
   "cell_type": "markdown",
   "id": "e2db115d",
   "metadata": {
    "papermill": {
     "duration": 0.016195,
     "end_time": "2022-11-05T20:21:40.680738",
     "exception": false,
     "start_time": "2022-11-05T20:21:40.664543",
     "status": "completed"
    },
    "tags": []
   },
   "source": [
    "### Hence the best Algorithm for the prediction of the type of forest fire detected by MODIS satellite will be ***XGBOOST*** "
   ]
  },
  {
   "cell_type": "code",
   "outputs": [],
   "source": [
    "import torch\n",
    "from torch import nn\n",
    "from torch.utils.data import DataLoader, TensorDataset\n",
    "from sklearn.preprocessing import StandardScaler\n",
    "\n",
    "# Convert the data to PyTorch tensors\n",
    "X_train_tensor = torch.tensor(X_train.values, dtype=torch.float)\n",
    "y_train_tensor = torch.tensor(y_train.values, dtype=torch.long).squeeze()  # Convert y_train to a 1D tensor\n",
    "X_test_tensor = torch.tensor(X_test.values, dtype=torch.float)\n",
    "y_test_tensor = torch.tensor(y_test.values, dtype=torch.long).squeeze()  # Convert y_test to a 1D tensor\n",
    "\n",
    "# Create a TensorDataset from the tensors\n",
    "train_dataset = TensorDataset(X_train_tensor, y_train_tensor)\n",
    "test_dataset = TensorDataset(X_test_tensor, y_test_tensor)\n",
    "\n",
    "# Create a DataLoader\n",
    "batch_size = 64\n",
    "train_loader = DataLoader(train_dataset, batch_size=batch_size, shuffle=True)\n",
    "test_loader = DataLoader(test_dataset, batch_size=batch_size, shuffle=False)\n",
    "\n",
    "# Define the model\n",
    "model = nn.Sequential(\n",
    "    nn.Linear(X_train.shape[1], 64),\n",
    "    nn.ReLU(),\n",
    "    nn.Linear(64, 32),\n",
    "    nn.ReLU(),\n",
    "    nn.Linear(32, len(y_train.iloc[:, 0].unique())),\n",
    ")\n",
    "\n",
    "# Define the loss function and the optimizer\n",
    "criterion = nn.CrossEntropyLoss()\n",
    "optimizer = torch.optim.Adam(model.parameters(), lr=0.001)\n",
    "\n",
    "# Move the model to GPU if available\n",
    "device = torch.device(\"cuda\" if torch.cuda.is_available() else \"cpu\")\n",
    "model = model.to(device)\n",
    "\n",
    "# Training loop\n",
    "n_epochs = 10\n",
    "for epoch in range(n_epochs):\n",
    "    model.train()\n",
    "    for batch in train_loader:\n",
    "        # Move the batch data to the device the model is on\n",
    "        X_batch, y_batch = batch\n",
    "        X_batch = X_batch.to(device)\n",
    "        y_batch = y_batch.to(device)\n",
    "\n",
    "        # Forward pass\n",
    "        y_pred = model(X_batch)\n",
    "        loss = criterion(y_pred, y_batch)\n",
    "\n",
    "        # Backward pass and optimization\n",
    "        optimizer.zero_grad()\n",
    "        loss.backward()\n",
    "        optimizer.step()\n",
    "\n",
    "    # Print the loss for this epoch\n",
    "    print(f'Epoch {epoch+1}/{n_epochs} - Loss: {loss.item()}')\n",
    "\n",
    "# Evaluate the model\n",
    "model.eval()\n",
    "with torch.no_grad():\n",
    "    correct = 0\n",
    "    total = 0\n",
    "    for batch in test_loader:\n",
    "        X_batch, y_batch = batch\n",
    "        X_batch = X_batch.to(device)\n",
    "        y_batch = y_batch.to(device)\n",
    "\n",
    "        # Make predictions\n",
    "        y_pred = model(X_batch)\n",
    "        _, predicted = torch.max(y_pred.data, 1)\n",
    "\n",
    "        # Count the number of correct predictions\n",
    "        total += y_batch.size(0)\n",
    "        correct += (predicted == y_batch).sum().item()\n",
    "\n",
    "    print(f'Accuracy: {correct / total * 100}%')"
   ],
   "metadata": {
    "collapsed": false
   },
   "id": "f97e7704946c12aa"
  },
  {
   "cell_type": "code",
   "outputs": [],
   "source": [],
   "metadata": {
    "collapsed": false
   },
   "id": "f84f90cc6a3eb6ce"
  },
  {
   "cell_type": "code",
   "outputs": [],
   "source": [
    "import os\n",
    "os.environ[\"KERAS_BACKEND\"] = \"plaidml.keras.backend\"\n",
    "\n",
    "from keras.models import Sequential\n",
    "from keras.layers import Dense\n",
    "from keras.utils import to_categorical\n",
    "from sklearn.preprocessing import StandardScaler\n",
    "\n",
    "# Scale the data\n",
    "sc = StandardScaler()\n",
    "X_train = sc.fit_transform(X_train)\n",
    "X_test = sc.transform(X_test)\n",
    "\n",
    "# Convert the labels to categorical\n",
    "y_train_categorical = to_categorical(y_train)\n",
    "y_test_categorical = to_categorical(y_test)\n",
    "\n",
    "# Define the model\n",
    "model = Sequential()\n",
    "model.add(Dense(64, input_dim=X_train.shape[1], activation='relu'))\n",
    "model.add(Dense(32, activation='relu'))\n",
    "model.add(Dense(len(y_train.iloc[:, 0].unique()), activation='softmax'))\n",
    "\n",
    "# Compile the model\n",
    "model.compile(loss='categorical_crossentropy', optimizer='adam', metrics=['accuracy'])\n",
    "\n",
    "# Train the model\n",
    "model.fit(X_train, y_train_categorical, epochs=10, batch_size=64)\n",
    "\n",
    "# Evaluate the model\n",
    "_, accuracy = model.evaluate(X_test, y_test_categorical)\n",
    "print(f'Accuracy: {accuracy * 100}%')"
   ],
   "metadata": {
    "collapsed": false
   },
   "id": "c71acf10cb32c61d"
  }
 ],
 "metadata": {
  "kernelspec": {
   "display_name": "Python 3",
   "language": "python",
   "name": "python3"
  },
  "language_info": {
   "codemirror_mode": {
    "name": "ipython",
    "version": 3
   },
   "file_extension": ".py",
   "mimetype": "text/x-python",
   "name": "python",
   "nbconvert_exporter": "python",
   "pygments_lexer": "ipython3",
   "version": "3.10.13"
  },
  "papermill": {
   "default_parameters": {},
   "duration": 223.441652,
   "end_time": "2022-11-05T20:21:43.317562",
   "environment_variables": {},
   "exception": null,
   "input_path": "__notebook__.ipynb",
   "output_path": "__notebook__.ipynb",
   "parameters": {},
   "start_time": "2022-11-05T20:17:59.875910",
   "version": "2.3.4"
  }
 },
 "nbformat": 4,
 "nbformat_minor": 5
}
